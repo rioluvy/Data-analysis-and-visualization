{
  "nbformat": 4,
  "nbformat_minor": 0,
  "metadata": {
    "colab": {
      "provenance": [],
      "authorship_tag": "ABX9TyONPDQSQavkiGEOEJvRhNFs",
      "include_colab_link": true
    },
    "kernelspec": {
      "name": "python3",
      "display_name": "Python 3"
    },
    "language_info": {
      "name": "python"
    }
  },
  "cells": [
    {
      "cell_type": "markdown",
      "metadata": {
        "id": "view-in-github",
        "colab_type": "text"
      },
      "source": [
        "<a href=\"https://colab.research.google.com/github/rioluvy/Data-analysis-and-visualization/blob/main/Encapsulation/M4.ipynb\" target=\"_parent\"><img src=\"https://colab.research.google.com/assets/colab-badge.svg\" alt=\"Open In Colab\"/></a>"
      ]
    },
    {
      "cell_type": "code",
      "execution_count": null,
      "metadata": {
        "id": "JWRLbQAR1ThQ"
      },
      "outputs": [],
      "source": [
        "## Pandas\n",
        "# 대용량 데이터를 다루기 편하다\n",
        "# 여러 차원(1*N ~ N*M)의 데이터를 다룰 수 있다.\n",
        "\n",
        "# Numpy는 주로 숫자 정보를 다루는 용도로 사용되지만\n",
        "# Pandas는 다양한 타입의 데이터를 처리하기에 더 용이함.\n",
        "# 각 특성들(Column)의 이름을 만들거나 형태를 쉽게 변형할 수 있다."
      ]
    },
    {
      "cell_type": "code",
      "source": [
        "## Pandas란\n",
        "# excel처럼 Tabular 데이터를 다루기에 용이함\n",
        "# 데이터는 행과 열로 정리되어 하나의 객체 단위로 사용이 가능함(Series, Dataframe)"
      ],
      "metadata": {
        "id": "3MZ_TJw63HyN"
      },
      "execution_count": null,
      "outputs": []
    },
    {
      "cell_type": "code",
      "source": [
        "import pandas as pd\n",
        "import numpy as np"
      ],
      "metadata": {
        "id": "KlxEW29n3r1d"
      },
      "execution_count": null,
      "outputs": []
    },
    {
      "cell_type": "code",
      "source": [
        "## Series\n",
        "# 가장 기본적인 Pandas의 데이터 구조\n",
        "# Numpy의 Array와 유사한 형태\n",
        "# 1차원 배열로 데이터를 저장한다\n",
        "# 각 데이터의 행은 Index Number를 가지고 있다\n",
        "# pd.Series(data = None, Index=None)를 사용하여 생성\n",
        "\n",
        "scores = pd.Series([10,20,30])\n",
        "costs = pd.Series(range(0,1000,10)) ## 0부터 1000까지 10단위로 끊어서\n",
        "names = pd.Series([\"Tom\",\"John\",\"Jenny\"])\n",
        "\n",
        "se1 = pd.Series() # 비어있는 시리즈\n",
        "se2 = pd.Series([1,2,3]) # 숫자 1,2,3이 들어있는 시리즈\n",
        "se3 = pd.Series([[1,2,3],['a','b','c']]) # 각 배열 [1,2,3], ['a','b','c']자체가 요소인 시리즈\n",
        "\n",
        "# 시리즈에 여러개의 Type을 섞는 경우 type = 'object'\n",
        "print(se3.dtype)"
      ],
      "metadata": {
        "colab": {
          "base_uri": "https://localhost:8080/"
        },
        "id": "YMz3XCkP33OO",
        "outputId": "09a1a189-1d87-4d46-a277-407ff1d55f4f"
      },
      "execution_count": null,
      "outputs": [
        {
          "output_type": "stream",
          "name": "stdout",
          "text": [
            "object\n"
          ]
        }
      ]
    },
    {
      "cell_type": "code",
      "source": [
        "grades = pd.Series(data = [50,70,90], index = [\"Tom\",\"John\",\"Jenny\"])\n",
        "print(grades)"
      ],
      "metadata": {
        "colab": {
          "base_uri": "https://localhost:8080/"
        },
        "id": "rfX7cjtC6Zu7",
        "outputId": "b3671bb5-b1e3-4141-9da9-3147ff83c31e"
      },
      "execution_count": null,
      "outputs": [
        {
          "output_type": "stream",
          "name": "stdout",
          "text": [
            "Tom      50\n",
            "John     70\n",
            "Jenny    90\n",
            "dtype: int64\n"
          ]
        }
      ]
    },
    {
      "cell_type": "code",
      "source": [
        "# Numpy와 동일하게 통계값을 리턴하는 함수 지원\n",
        "# describe(), mean(), std() 등\n",
        "# 데이터의 갯수, 평균, 쿼터별 값, median, 자료형 등의 정보를 리턴해줌\n",
        "\n",
        "print(grades.mean()) # 평균\n",
        "print(grades.std()) # 표준편차\n",
        "print(grades.count()) # 개수\n",
        "print()\n",
        "print(grades.describe()) # 전반적인 통계 정보"
      ],
      "metadata": {
        "colab": {
          "base_uri": "https://localhost:8080/"
        },
        "id": "YCgtMwva8j9V",
        "outputId": "22fd76f3-4cd2-4e0a-8f3f-7643a887821d"
      },
      "execution_count": null,
      "outputs": [
        {
          "output_type": "stream",
          "name": "stdout",
          "text": [
            "70.0\n",
            "20.0\n",
            "3\n",
            "\n",
            "count     3.0\n",
            "mean     70.0\n",
            "std      20.0\n",
            "min      50.0\n",
            "25%      60.0\n",
            "50%      70.0\n",
            "75%      80.0\n",
            "max      90.0\n",
            "dtype: float64\n"
          ]
        }
      ]
    },
    {
      "cell_type": "code",
      "source": [
        "## Series의 Indexing\n",
        "# 조건문과 함께 사용하여 indexing\n",
        "# 특정 조건을 만족하는 element만 가져온다\n",
        "# 조건문 여러개를 연결하는 것도 가능\n",
        "\n",
        "print(grades[grades>60]) # 60보다 큰 점수만 필터링\n",
        "print(grades[(grades>60) & (grades<80)])"
      ],
      "metadata": {
        "colab": {
          "base_uri": "https://localhost:8080/"
        },
        "id": "zSAotuGM9Rg8",
        "outputId": "54c6ea66-44af-4fbd-aca8-963aa50f4fba"
      },
      "execution_count": null,
      "outputs": [
        {
          "output_type": "stream",
          "name": "stdout",
          "text": [
            "John     70\n",
            "Jenny    90\n",
            "dtype: int64\n",
            "John    70\n",
            "dtype: int64\n"
          ]
        }
      ]
    },
    {
      "cell_type": "code",
      "source": [
        "## DataFrame\n",
        "# 시리즈의 집합, 2차원 배열\n",
        "# 각 열(Column)에 각 Series들이 모여 하나의 DataFrame이라는 객체 형성\n",
        "# 각 행(Row)는 각 column에 해당하는 값들을 가짐\n",
        "\n",
        "df = pd.DataFrame([10,20,30]) # 데이터 프레임 생성\n",
        "print(df)\n",
        "print()\n",
        "\n",
        "# 2차원 배열로 저장되기에 Dictionary형태로 입력 가능\n",
        "# 각 dictionary의 value들은 모두 같은 길이를 가져야 함\n",
        "df = pd.DataFrame({'A':[1,2,3], 'B':[10,20,30],'C':[100,200,300]})\n",
        "print(df)"
      ],
      "metadata": {
        "colab": {
          "base_uri": "https://localhost:8080/"
        },
        "id": "AiCmnpN09wfK",
        "outputId": "b1328a66-75c7-4549-beb5-6df477a05a0e"
      },
      "execution_count": null,
      "outputs": [
        {
          "output_type": "stream",
          "name": "stdout",
          "text": [
            "    0\n",
            "0  10\n",
            "1  20\n",
            "2  30\n",
            "\n",
            "   A   B    C\n",
            "0  1  10  100\n",
            "1  2  20  200\n",
            "2  3  30  300\n"
          ]
        }
      ]
    },
    {
      "cell_type": "code",
      "source": [
        "## DataFrame의 속성들\n",
        "# index: Series와 동일하게 행이나 열의 위치를 나타냄\n",
        "# columns: 열의 이름\n",
        "# shape: DataFrame의 모양\n",
        "# dtypes: column들의 데이터 타입\n",
        "\n",
        "print(df.index)\n",
        "print(df.columns)\n",
        "print(df.shape)\n",
        "print(df.dtypes)"
      ],
      "metadata": {
        "colab": {
          "base_uri": "https://localhost:8080/"
        },
        "id": "sRV0l_fL-g5j",
        "outputId": "573bd6ac-5d6b-4094-8727-5f32e411603e"
      },
      "execution_count": null,
      "outputs": [
        {
          "output_type": "stream",
          "name": "stdout",
          "text": [
            "RangeIndex(start=0, stop=3, step=1)\n",
            "Index(['A', 'B', 'C'], dtype='object')\n",
            "(3, 3)\n",
            "A    int64\n",
            "B    int64\n",
            "C    int64\n",
            "dtype: object\n"
          ]
        }
      ]
    },
    {
      "cell_type": "code",
      "source": [
        "## DataFrame 불러오기\n",
        "# Pandas는 외부 데이터를 데이터 프레임화해서 불러올 수 있음\n",
        "# read_파일형식(파일명)의 함수를 사용\n",
        "# csv 파일의 경우, read_csv(파일명)\n",
        "\n",
        "# ex) stock_df = pd.read_csv('stock-data.csv')"
      ],
      "metadata": {
        "id": "yVbmVJaD_y0e"
      },
      "execution_count": null,
      "outputs": []
    },
    {
      "cell_type": "code",
      "source": [
        "## DataFrame의 내장 함수들\n",
        "# head(N): 데이터 프레임의 앞부분 N개를 미리 보여준다\n",
        "# tail(N): 데이터 프레임의 끝부분 N개를 미리 보여준다\n",
        "# describe(): 데이터 프레임의 여러 통계 정보를 제공\n",
        "# info(): 데이터 프레임의 column별 여러 정보를 제공\n",
        "\n",
        "# ex) print(stock_df.head())\n",
        "# ex) print(stock_df.tail())\n",
        "\n",
        "## DataFrame 기본 인덱싱\n",
        "# 특정 column만 필터링하기\n",
        "# 데이터 프레임에 원하는 column 이름 리스트를 사용해 필터링\n",
        "\n",
        "# stock_df[['Date','Close','Start']].head()\n",
        "# stock_df의 [Data,Colse,Start,High,Low,Volume] 중 앞 3개의 column만 선택\n"
      ],
      "metadata": {
        "id": "E65XqFE_AiGy"
      },
      "execution_count": null,
      "outputs": []
    },
    {
      "cell_type": "code",
      "source": [
        "## DataFrame 내보내기\n",
        "# Pandas 데이터 프레임은 외부로, 원하는 포맷으로 저장이 가능\n",
        "# to_파일형식(파일이름): csv파일의 경우 to_csv(파일명)\n",
        "# csv,json,xlsx 등 다양한 서식으로 내보내기 가능\n",
        "# stock_df의 앞 세개 colume만 csv로 내보내보자\n",
        "\n",
        "# new_stock_df = stock_df[['Data','Close','Start']]\n",
        "# new_stock_df.to_csv('stock-data-new.csv', index = False) #새로운 데이터 프레임 csv로 추출"
      ],
      "metadata": {
        "id": "WTmPLxoUB-DZ"
      },
      "execution_count": null,
      "outputs": []
    },
    {
      "cell_type": "code",
      "source": [
        "## DataFrame 합치기\n",
        "df1 = pd.DataFrame({'A':[1,2,3],'B':[10,20,30],'C':[100,200,300]})\n",
        "df2 = pd.DataFrame({'A':[1,2,3,4,5,6],'D':['a','b','c','d','e','f']})\n",
        "\n",
        "# concat: 데이터를 수직 혹은 수평으로 이어붙임\n",
        "# 공유하지 않는 column은 NaN으로 설정\n",
        "# Argumenets\n",
        "# 1. ingnore_index = False: 인덱스를 재설정 or not\n",
        "# 2. axis = 0, axis = 1: 세로(0), 가로(1)방향 중 이어붙일 곳 선택\n",
        "# 3. join = 'outer': 행, 열이 맞지 않은 경우 ship or NaN\n",
        "print(pd.concat([df1,df2]))\n",
        "print()\n",
        "\n",
        "# merge: 특정 key를 기준으로 여러 데이터 프레임을 합쳐야 할때\n",
        "# Arguments\n",
        "# 1. on: 기준 key가 될 Column을 설정\n",
        "# 2. how: 'inner': 공통되지 않은 것들을 제거('inner'), 그대로 두고 NaN으로 채우기('outer') , 'left', 'right'\n",
        "print(pd.merge(df1,df2,on='A', how = 'inner'))\n",
        "print()\n",
        "print(pd.merge(df1,df2,on='A', how = 'outer'))\n",
        "\n",
        "# join: index를 기준으로 합쳐야 할때, 붙이고자 하는 데이터 프레임에 사용\n",
        "# ex) df.join(df2)\n",
        "# Arguments: how: 'inner'(교집합), 'outer'(합집합)"
      ],
      "metadata": {
        "colab": {
          "base_uri": "https://localhost:8080/"
        },
        "id": "VbIrS1iEDlTC",
        "outputId": "e0be0792-4e04-4b47-bd8a-a244368caa84"
      },
      "execution_count": null,
      "outputs": [
        {
          "output_type": "stream",
          "name": "stdout",
          "text": [
            "   A     B      C    D\n",
            "0  1  10.0  100.0  NaN\n",
            "1  2  20.0  200.0  NaN\n",
            "2  3  30.0  300.0  NaN\n",
            "0  1   NaN    NaN    a\n",
            "1  2   NaN    NaN    b\n",
            "2  3   NaN    NaN    c\n",
            "3  4   NaN    NaN    d\n",
            "4  5   NaN    NaN    e\n",
            "5  6   NaN    NaN    f\n",
            "\n",
            "   A   B    C  D\n",
            "0  1  10  100  a\n",
            "1  2  20  200  b\n",
            "2  3  30  300  c\n",
            "\n",
            "   A     B      C  D\n",
            "0  1  10.0  100.0  a\n",
            "1  2  20.0  200.0  b\n",
            "2  3  30.0  300.0  c\n",
            "3  4   NaN    NaN  d\n",
            "4  5   NaN    NaN  e\n",
            "5  6   NaN    NaN  f\n"
          ]
        }
      ]
    },
    {
      "cell_type": "code",
      "source": [
        "# data_A = {'과일': ['사과', '바나나', '오렌지'], '가격_A': [1000, 500, 1500]}\n",
        "#     data_B = {'과일': ['사과', '바나나', '포도'], '가격_B': [1200, 600, 2000]}\n",
        "\n",
        "#     # Step 1: 가게 A와 B의 과일 가격 목록을 DataFrame으로 생성\n",
        "#     df_A = pd.DataFrame(data_A)\n",
        "#     df_B = pd.DataFrame(data_B)\n",
        "\n",
        "#     # Step 2: 가로로 병합\n",
        "#     horizontal_merge = pd.merge(df_A,df_B, on = '과일', how = 'outer')\n",
        "\n",
        "#     # Step 3: '사과'의 가격만 포함하는 DataFrame 생성\n",
        "#     apples = horizontal_merge[horizontal_merge['과일'] == '사과']\n",
        "\n",
        "\n",
        "# def analyze_class_members(data):\n",
        "#     # 1. Dict 형태로 주어진 수강생 데이터를 pandas dataframe으로 변경\n",
        "#     df = pd.DataFrame(data)\n",
        "\n",
        "#     # 2. 이름, 나이, 성별에 해당하는 각각의 pandas series를 생성\n",
        "#     name_series = df['이름']\n",
        "#     age_series = df['나이']\n",
        "#     gender_series = df['성별']\n",
        "\n",
        "#     # 3. 이름을 제외하고 나이, 성별로만 구성된 pandas dataframe을 생성\n",
        "#     df_without_name = df.drop(columns = ['이름'])\n",
        "#     ## or df['나이','성별']\n",
        "\n",
        "#     return name_series, age_series, gender_series, df_without_name\n",
        "\n",
        "# # 테스트\n",
        "# data = {'이름': ['Alice', 'Bob', 'Charlie', 'David'],\n",
        "#         '나이': [25.0, 30.0, 35.0, 40.0],\n",
        "#         '성별': ['여성', '남성', '남성', '남성']}"
      ],
      "metadata": {
        "id": "MhaTwLEhERkE"
      },
      "execution_count": null,
      "outputs": []
    },
    {
      "cell_type": "code",
      "source": [],
      "metadata": {
        "id": "1nxz-GRaLybh"
      },
      "execution_count": null,
      "outputs": []
    }
  ]
}