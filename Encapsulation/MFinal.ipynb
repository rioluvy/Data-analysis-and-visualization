{
  "nbformat": 4,
  "nbformat_minor": 0,
  "metadata": {
    "colab": {
      "provenance": [],
      "authorship_tag": "ABX9TyMFpriaZzVy2xO0gW94YZDg",
      "include_colab_link": true
    },
    "kernelspec": {
      "name": "python3",
      "display_name": "Python 3"
    },
    "language_info": {
      "name": "python"
    }
  },
  "cells": [
    {
      "cell_type": "markdown",
      "metadata": {
        "id": "view-in-github",
        "colab_type": "text"
      },
      "source": [
        "<a href=\"https://colab.research.google.com/github/rioluvy/Data-analysis-and-visualization/blob/main/Encapsulation/MFinal.ipynb\" target=\"_parent\"><img src=\"https://colab.research.google.com/assets/colab-badge.svg\" alt=\"Open In Colab\"/></a>"
      ]
    },
    {
      "cell_type": "code",
      "execution_count": null,
      "metadata": {
        "colab": {
          "base_uri": "https://localhost:8080/"
        },
        "id": "0Te21VOzWWad",
        "outputId": "9e95aeec-ed49-4883-b6a5-07f7d7c4405a"
      },
      "outputs": [
        {
          "output_type": "stream",
          "name": "stdout",
          "text": [
            "만일 공부 시간이 11시간이라면 예상 성적은 112.00점입니다.\n",
            "만일 공부 시간이 12시간이라면 예상 성적은 119.64점입니다.\n",
            "만일 공부 시간이 13시간이라면 예상 성적은 127.27점입니다.\n"
          ]
        }
      ],
      "source": [
        "import numpy as np\n",
        "import matplotlib.pyplot as plt\n",
        "from sklearn.linear_model import LinearRegression\n",
        "\n",
        "# 주어진 데이터 (수정 금지)\n",
        "study_hours = np.array([1, 2, 3, 4, 5, 6, 7, 8, 9, 10])\n",
        "grades = np.array([30, 45, 50, 60, 70, 75, 85, 90, 95, 100])\n",
        "\n",
        "# 1. 선형 회귀 모델 학습\n",
        "model = LinearRegression() ## to do - 선형 회귀 모델 생성\n",
        "study_hours_reshaped = study_hours.reshape(-1,1 )## to do - 1차원 배열을 2차원으로 변환 (reshape)\n",
        "## to do - 선형 회귀 모델 학습 (fit)\n",
        "model.fit(study_hours_reshaped, grades)\n",
        "\n",
        "# 2. 성적 예측 함수\n",
        "def predict_grade(hours):\n",
        "    hours_reshaped = np.array(hours).reshape(-1,1)## to do - 1차원 배열을 2차원으로 변환 (reshape)\n",
        "    return model.predict(hours_reshaped)## to do - 선형 회귀 모델 예측 (predict)\n",
        "\n",
        "# 예상 성적 출력 (수정 금지)\n",
        "predicted_grade = predict_grade([11, 12, 13])\n",
        "for i, hours in enumerate([11, 12, 13]):\n",
        "    print(f'만일 공부 시간이 {hours}시간이라면 예상 성적은 {predicted_grade[i]:.2f}점입니다.')\n"
      ]
    },
    {
      "cell_type": "code",
      "source": [
        "import torch\n",
        "import torch.nn as nn\n",
        "import torch.optim as optim\n",
        "from torchvision import datasets, transforms\n",
        "from torch.utils.data import DataLoader, Subset\n",
        "from tqdm import tqdm\n",
        "\n",
        "# 채점을 위해 SEED 고정\n",
        "torch.manual_seed(123)\n",
        "\n",
        "# TODO 1: CIFAR-10 훈련 및 평가 데이터 로더 생성 후 반환\n",
        "def get_dataloaders():\n",
        "    # 데이터 전처리를 위한 변환 정의\n",
        "    transform = transforms.Compose([\n",
        "        transforms.ToTensor(),\n",
        "        transforms.Normalize((0.5, 0.5, 0.5), (0.5, 0.5, 0.5))\n",
        "    ])\n",
        "    train_dataset = datasets.CIFAR10(root = './data', train = True, download = True, transform = transform)\n",
        "    test_dataset = datasets.CIFAR10(root = './data', train = False, download = True, transform = transform)\n",
        "    train_dataloader = DataLoader(train_dataset, batch_size = 128, shuffle = True)\n",
        "    test_dataloader = DataLoader(test_dataset, batch_size = 16, shuffle = False)\n",
        "    return train_dataloader, test_dataloader\n",
        "\n",
        "\n",
        "class Model(nn.Module):\n",
        "    def __init__(self):\n",
        "        super(Model, self).__init__()\n",
        "        self.layers = nn.Sequential(\n",
        "            nn.Flatten(),\n",
        "            nn.Linear(3*32*32, 512),\n",
        "            nn.ReLU(),\n",
        "            nn.Linear(512, 256),\n",
        "            nn.ReLU(),\n",
        "            nn.Linear(256, 10)\n",
        "        )\n",
        "\n",
        "    def forward(self, x):\n",
        "        logits = self.layers(x)\n",
        "        return logits\n",
        "\n",
        "\n",
        "def main():\n",
        "    # CIFAR-10 데이터셋 로드\n",
        "    train_dataloader, test_dataloader = get_dataloaders()\n",
        "\n",
        "    # 모델 초기화\n",
        "    model = Model()\n",
        "\n",
        "    # TODO 2: 손실 함수와 최적화 알고리즘 설정\n",
        "    criterion = nn.CrossEntropyLoss()\n",
        "    optimizer = optim.Adam(model.parameters(), lr = 0.001)\n",
        "\n",
        "    # TODO 3: 훈련 데이터로 10 epoch 동안 모델 학습\n",
        "    for epoch in range(10):\n",
        "        model.train()\n",
        "        for batch_idx, (data, target) in enumerate(train_dataloader):\n",
        "            optimizer.zero_grad()\n",
        "            output = model(data)\n",
        "            loss = criterion(output,target)\n",
        "            loss.backward()\n",
        "            optimizer.step()\n",
        "\n",
        "\n",
        "            if batch_idx % 100 == 0:\n",
        "               print(f'Epoch {epoch:2d} [{batch_idx * len(data):5d}/{len(train_dataloader.dataset)} ({100. * batch_idx / len(train_dataloader):2.0f}%)]\\tLoss: {loss.item():.6f}')\n",
        "\n",
        "    # 평가 데이터로 모델 성능 평가\n",
        "    model.eval()\n",
        "    with torch.no_grad():\n",
        "        data, target = next(iter(test_dataloader))\n",
        "        output = model(data) # logit\n",
        "        pred = output.argmax(dim=1)\n",
        "        accuracy = pred.eq(target).sum() / data.shape[0]\n",
        "\n",
        "        print()\n",
        "        print('target\\t', target.detach().numpy())\n",
        "        print('pred\\t', pred.detach().numpy())\n",
        "        print(f'accuracy: {accuracy:.3f}')\n",
        "\n",
        "        if accuracy >= 0.5:\n",
        "            print('PASS')\n",
        "        else:\n",
        "            print('FAIL')\n",
        "\n",
        "if __name__ == \"__main__\":\n",
        "    main()\n",
        "\n"
      ],
      "metadata": {
        "colab": {
          "base_uri": "https://localhost:8080/"
        },
        "id": "IVEMeZLcZ-3X",
        "outputId": "56e5bc31-990a-4b67-a68d-d9746e38d4b7"
      },
      "execution_count": null,
      "outputs": [
        {
          "output_type": "stream",
          "name": "stdout",
          "text": [
            "Downloading https://www.cs.toronto.edu/~kriz/cifar-10-python.tar.gz to ./data/cifar-10-python.tar.gz\n"
          ]
        },
        {
          "output_type": "stream",
          "name": "stderr",
          "text": [
            "100%|██████████| 170M/170M [00:02<00:00, 79.8MB/s]\n"
          ]
        },
        {
          "output_type": "stream",
          "name": "stdout",
          "text": [
            "Extracting ./data/cifar-10-python.tar.gz to ./data\n",
            "Files already downloaded and verified\n",
            "Epoch  0 [    0/50000 ( 0%)]\tLoss: 2.306007\n",
            "Epoch  0 [12800/50000 (26%)]\tLoss: 1.600073\n",
            "Epoch  0 [25600/50000 (51%)]\tLoss: 1.502232\n",
            "Epoch  0 [38400/50000 (77%)]\tLoss: 1.553926\n",
            "Epoch  1 [    0/50000 ( 0%)]\tLoss: 1.390447\n",
            "Epoch  1 [12800/50000 (26%)]\tLoss: 1.402936\n",
            "Epoch  1 [25600/50000 (51%)]\tLoss: 1.525883\n",
            "Epoch  1 [38400/50000 (77%)]\tLoss: 1.450530\n",
            "Epoch  2 [    0/50000 ( 0%)]\tLoss: 1.349213\n",
            "Epoch  2 [12800/50000 (26%)]\tLoss: 1.241852\n",
            "Epoch  2 [25600/50000 (51%)]\tLoss: 1.299721\n",
            "Epoch  2 [38400/50000 (77%)]\tLoss: 1.355383\n",
            "Epoch  3 [    0/50000 ( 0%)]\tLoss: 1.331545\n",
            "Epoch  3 [12800/50000 (26%)]\tLoss: 1.297089\n",
            "Epoch  3 [25600/50000 (51%)]\tLoss: 1.022563\n",
            "Epoch  3 [38400/50000 (77%)]\tLoss: 1.133574\n",
            "Epoch  4 [    0/50000 ( 0%)]\tLoss: 1.085564\n",
            "Epoch  4 [12800/50000 (26%)]\tLoss: 1.098051\n",
            "Epoch  4 [25600/50000 (51%)]\tLoss: 1.232772\n",
            "Epoch  4 [38400/50000 (77%)]\tLoss: 1.045545\n",
            "Epoch  5 [    0/50000 ( 0%)]\tLoss: 1.062737\n",
            "Epoch  5 [12800/50000 (26%)]\tLoss: 0.988383\n",
            "Epoch  5 [25600/50000 (51%)]\tLoss: 1.007246\n",
            "Epoch  5 [38400/50000 (77%)]\tLoss: 1.194784\n",
            "Epoch  6 [    0/50000 ( 0%)]\tLoss: 0.846948\n",
            "Epoch  6 [12800/50000 (26%)]\tLoss: 0.915149\n",
            "Epoch  6 [25600/50000 (51%)]\tLoss: 0.901205\n",
            "Epoch  6 [38400/50000 (77%)]\tLoss: 0.852370\n",
            "Epoch  7 [    0/50000 ( 0%)]\tLoss: 0.818879\n",
            "Epoch  7 [12800/50000 (26%)]\tLoss: 0.936077\n",
            "Epoch  7 [25600/50000 (51%)]\tLoss: 0.872425\n",
            "Epoch  7 [38400/50000 (77%)]\tLoss: 0.914233\n",
            "Epoch  8 [    0/50000 ( 0%)]\tLoss: 0.807633\n",
            "Epoch  8 [12800/50000 (26%)]\tLoss: 0.698802\n",
            "Epoch  8 [25600/50000 (51%)]\tLoss: 0.834921\n",
            "Epoch  8 [38400/50000 (77%)]\tLoss: 0.732468\n",
            "Epoch  9 [    0/50000 ( 0%)]\tLoss: 0.661990\n",
            "Epoch  9 [12800/50000 (26%)]\tLoss: 0.552046\n",
            "Epoch  9 [25600/50000 (51%)]\tLoss: 0.751507\n",
            "Epoch  9 [38400/50000 (77%)]\tLoss: 0.819043\n",
            "\n",
            "target\t [3 8 8 0 6 6 1 6 3 1 0 9 5 7 9 8]\n",
            "pred\t [3 8 0 0 4 6 3 6 5 1 8 9 5 2 1 8]\n",
            "accuracy: 0.562\n",
            "PASS\n"
          ]
        }
      ]
    },
    {
      "cell_type": "code",
      "source": [],
      "metadata": {
        "id": "WgV0UEvaaEQW"
      },
      "execution_count": null,
      "outputs": []
    }
  ]
}