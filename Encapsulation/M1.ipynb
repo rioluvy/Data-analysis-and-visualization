{
  "nbformat": 4,
  "nbformat_minor": 0,
  "metadata": {
    "colab": {
      "provenance": [],
      "include_colab_link": true
    },
    "kernelspec": {
      "name": "python3",
      "display_name": "Python 3"
    },
    "language_info": {
      "name": "python"
    }
  },
  "cells": [
    {
      "cell_type": "markdown",
      "metadata": {
        "id": "view-in-github",
        "colab_type": "text"
      },
      "source": [
        "<a href=\"https://colab.research.google.com/github/rioluvy/Data-analysis-and-visualization/blob/main/M1.ipynb\" target=\"_parent\"><img src=\"https://colab.research.google.com/assets/colab-badge.svg\" alt=\"Open In Colab\"/></a>"
      ]
    },
    {
      "cell_type": "code",
      "execution_count": null,
      "metadata": {
        "colab": {
          "base_uri": "https://localhost:8080/"
        },
        "id": "dmx7jummO8GV",
        "outputId": "52ccf0f3-937c-48ca-c121-7545e6e76270"
      },
      "outputs": [
        {
          "output_type": "stream",
          "name": "stdout",
          "text": [
            "Requirement already satisfied: numpy in /usr/local/lib/python3.10/dist-packages (1.26.4)\n"
          ]
        }
      ],
      "source": [
        "!pip install numpy ## Numpy 라이브러리가 설치되어 있지 않은 경우에만 필요"
      ]
    },
    {
      "cell_type": "code",
      "source": [
        "import numpy as np ## 개발자들의 십중팔구는 넘파이를 np라는 별칭으로 사용"
      ],
      "metadata": {
        "id": "sRSux-UVPRhU"
      },
      "execution_count": null,
      "outputs": []
    },
    {
      "cell_type": "code",
      "source": [
        "print(np.__version__) ## 파이썬 라이브러리 버전 확인"
      ],
      "metadata": {
        "colab": {
          "base_uri": "https://localhost:8080/"
        },
        "id": "4q4B5255Po2Q",
        "outputId": "0e26ce61-ae1f-429d-8a2a-360218a9d781"
      },
      "execution_count": null,
      "outputs": [
        {
          "output_type": "stream",
          "name": "stdout",
          "text": [
            "1.26.4\n"
          ]
        }
      ]
    },
    {
      "cell_type": "code",
      "source": [
        "## 넘파이에서는 다차원 행렬 계산을 위해 ndarray자료형을 자체적으로 가지고 있다.\n",
        "my_first_array = np.array([0,0.5,1])\n",
        "print(my_first_array)"
      ],
      "metadata": {
        "colab": {
          "base_uri": "https://localhost:8080/"
        },
        "id": "eLf6FXgOPwc2",
        "outputId": "03843ed5-25fa-472e-dece-2a5927c6b084"
      },
      "execution_count": null,
      "outputs": [
        {
          "output_type": "stream",
          "name": "stdout",
          "text": [
            "[0.  0.5 1. ]\n"
          ]
        }
      ]
    },
    {
      "cell_type": "code",
      "source": [
        "print(type(my_first_array))\n",
        "print(type(my_first_array[0])) ## 원소가 float64로 타입이 변환됨."
      ],
      "metadata": {
        "colab": {
          "base_uri": "https://localhost:8080/"
        },
        "id": "RGBnxrLYP9sf",
        "outputId": "9e71162b-f4b3-46d2-d3d3-098fb09779a4"
      },
      "execution_count": null,
      "outputs": [
        {
          "output_type": "stream",
          "name": "stdout",
          "text": [
            "<class 'numpy.ndarray'>\n",
            "<class 'numpy.float64'>\n"
          ]
        }
      ]
    },
    {
      "cell_type": "code",
      "source": [
        "print(my_first_array.dtype) ## 원소 중 하나라도 float64타입을 가지고 있으면 전체가 float64로 타입이 변환된다."
      ],
      "metadata": {
        "colab": {
          "base_uri": "https://localhost:8080/"
        },
        "id": "7qP58ryjQU4L",
        "outputId": "c6b1e719-0898-4e95-a7d4-2cc6934e1d55"
      },
      "execution_count": null,
      "outputs": [
        {
          "output_type": "stream",
          "name": "stdout",
          "text": [
            "float64\n"
          ]
        }
      ]
    },
    {
      "cell_type": "code",
      "source": [
        "## ndarray 객체는 배열로 간주하면 되며(행렬과 유사) 관련 연산들을 지원한다.\n",
        "## 배열의 덧셈, 배열의 뺄셈, 배열 원소별 곱셈, 배열 원소별 나눗셈, 몫 연산, 나머지 연산 등\n",
        "\n",
        "my_second_array = np.array((1,1,1)) ## 튜플로 선언해도 타입은 ndarray타입\n",
        "print(my_second_array)\n",
        "print(type(my_second_array.dtype)) ## 튜플 원소들의 타입이 모두 int형이므로 int64타입으로 변환함"
      ],
      "metadata": {
        "colab": {
          "base_uri": "https://localhost:8080/"
        },
        "id": "fmxQ6vt4QYLr",
        "outputId": "84e0c314-37df-4c68-85e2-ab5458fa016b"
      },
      "execution_count": null,
      "outputs": [
        {
          "output_type": "stream",
          "name": "stdout",
          "text": [
            "[1 1 1]\n",
            "<class 'numpy.dtypes.Int64DType'>\n"
          ]
        }
      ]
    },
    {
      "cell_type": "code",
      "source": [
        "## 배열의 연산\n",
        "print(my_first_array + my_second_array)\n",
        "print(my_first_array - my_second_array)\n",
        "print(my_first_array * my_second_array)\n",
        "print(my_first_array / my_second_array)\n",
        "print(my_first_array // my_second_array)\n",
        "print(my_first_array % my_second_array)"
      ],
      "metadata": {
        "colab": {
          "base_uri": "https://localhost:8080/"
        },
        "id": "8R6CjCUaRNPh",
        "outputId": "2b50e326-0ad8-4123-da45-5d8a3ee05a96"
      },
      "execution_count": null,
      "outputs": [
        {
          "output_type": "stream",
          "name": "stdout",
          "text": [
            "[1.  1.5 2. ]\n",
            "[-1.  -0.5  0. ]\n",
            "[0.  0.5 1. ]\n",
            "[0.  0.5 1. ]\n",
            "[0. 0. 1.]\n",
            "[0.  0.5 0. ]\n"
          ]
        }
      ]
    },
    {
      "cell_type": "code",
      "source": [
        "## 내적을 하고 싶은 경우(행렬의 곱셈) @ 혹은 dot메소드를 사용하면 된다\n",
        "A = np.array([[1,2],[3,4]])\n",
        "B = np.array([[1,1],[2,2]])\n",
        "print(A, A.shape, A.ndim, A.size, len(A))\n",
        "## 각각 행렬A, A의 모양, A의 차원, A의 모든 원소의 개수, 가장 바깥(혹은 첫) 차원에서의 값"
      ],
      "metadata": {
        "colab": {
          "base_uri": "https://localhost:8080/"
        },
        "id": "GD2p4Dd6SYd0",
        "outputId": "57594739-3516-4928-9e10-bcd0ede978c4"
      },
      "execution_count": null,
      "outputs": [
        {
          "output_type": "stream",
          "name": "stdout",
          "text": [
            "[[1 2]\n",
            " [3 4]] (2, 2) 2 4 2\n"
          ]
        }
      ]
    },
    {
      "cell_type": "code",
      "source": [
        "print(A*B) ## 배열 원소별 곱셈\n",
        "print()\n",
        "print(A@B) ## 배열의 곱(1)\n",
        "print(A.dot(B)) ## 배열의 곱(2)\n",
        "print(np.dot(A,B)) ## 배열의 곱(3)\n",
        "\n",
        "## 배열의 곱은 모두 행렬의 내적 곱셈"
      ],
      "metadata": {
        "colab": {
          "base_uri": "https://localhost:8080/"
        },
        "id": "GgiWgUzDVare",
        "outputId": "95db3fac-eaf9-48fd-b7a6-d3b77a801d90"
      },
      "execution_count": null,
      "outputs": [
        {
          "output_type": "stream",
          "name": "stdout",
          "text": [
            "[[1 2]\n",
            " [6 8]]\n",
            "\n",
            "[[ 5  5]\n",
            " [11 11]]\n",
            "[[ 5  5]\n",
            " [11 11]]\n",
            "[[ 5  5]\n",
            " [11 11]]\n"
          ]
        }
      ]
    },
    {
      "cell_type": "code",
      "source": [
        "## Numpy에서 제공하는 메소드\n",
        "## arange: range 내장 함수와 거의 동일한 기능을 제공한다. 지정된 범위에 따라 ndarray 객체를 생성한다.\n",
        "print(np.arange(5)) ## 0~4\n",
        "print(np.arange(1,5)) ## 1~4\n",
        "print(np.arange(1,5,2)) ## 1,3"
      ],
      "metadata": {
        "colab": {
          "base_uri": "https://localhost:8080/"
        },
        "id": "w_HzFT2OWHjU",
        "outputId": "d579c8ab-2b26-4632-d6bf-d30ffc4e9639"
      },
      "execution_count": null,
      "outputs": [
        {
          "output_type": "stream",
          "name": "stdout",
          "text": [
            "[0 1 2 3 4]\n",
            "[1 2 3 4]\n",
            "[1 3]\n"
          ]
        }
      ]
    },
    {
      "cell_type": "code",
      "source": [
        "## linspace: 특정 범위의 수를 균등하게 나누고자 할 때 사용한다.\n",
        "## np.linspace(start, stop, count) 이처럼 세개의 파라미터를 받으며 'start'부터 'stop'까지 count개 구간으로 나눈다.\n",
        "print(np.linspace(1,50), len(np.linspace(1,50))) ## 1부터 50까지 총 50개의 구간\n",
        "print(np.linspace(1,10,5)) ## 1부터 10까지 총 5개의 구간"
      ],
      "metadata": {
        "colab": {
          "base_uri": "https://localhost:8080/"
        },
        "id": "NND7KIuBX4Qw",
        "outputId": "735ed4c6-a97c-4489-8f43-72cb50a4f88f"
      },
      "execution_count": null,
      "outputs": [
        {
          "output_type": "stream",
          "name": "stdout",
          "text": [
            "[ 1.  2.  3.  4.  5.  6.  7.  8.  9. 10. 11. 12. 13. 14. 15. 16. 17. 18.\n",
            " 19. 20. 21. 22. 23. 24. 25. 26. 27. 28. 29. 30. 31. 32. 33. 34. 35. 36.\n",
            " 37. 38. 39. 40. 41. 42. 43. 44. 45. 46. 47. 48. 49. 50.] 50\n",
            "[ 1.    3.25  5.5   7.75 10.  ]\n"
          ]
        }
      ]
    },
    {
      "cell_type": "code",
      "source": [
        "## zeros: shape에 맞춰서 float64 타입의 0으로 채워진 ndarray생성\n",
        "## zeros_like: 주어진 시퀸스 객체와 동일한 shape으로 int64 타입의 0으로 채워진 ndarray 객체 생성\n",
        "## 0 행렬 만들기\n",
        "\n",
        "print(np.zeros(5))\n",
        "print(np.zeros(5).dtype)\n",
        "print()\n",
        "C = np.array([[1,2],[3,4],[5,6]])\n",
        "print(np.zeros_like(C))  ## C와 같은 shape을 가지되 0으로 채우기\n",
        "print(np.zeros_like(C).dtype) ## zeros와 다르게 int64로 채운다\n",
        "d = [1,2]\n",
        "print(np.zeros_like(d))\n",
        "e = [1,2,3]\n",
        "print(np.zeros_like(e))\n",
        "\n",
        "## 0행렬 말고 1행렬을 만들기 위한 메소드로 ones 와 ones_like도 동일하게 지원한다"
      ],
      "metadata": {
        "id": "fKIGakvSYg9O",
        "outputId": "cc393340-4b35-4002-eb4e-820d7d926e41",
        "colab": {
          "base_uri": "https://localhost:8080/"
        }
      },
      "execution_count": null,
      "outputs": [
        {
          "output_type": "stream",
          "name": "stdout",
          "text": [
            "[0. 0. 0. 0. 0.]\n",
            "float64\n",
            "\n",
            "[[0 0]\n",
            " [0 0]\n",
            " [0 0]]\n",
            "int64\n",
            "[0 0]\n",
            "[0 0 0]\n"
          ]
        }
      ]
    },
    {
      "cell_type": "code",
      "source": [
        "## full: 주어진 shape와 값에 맞춰서 ndarray객체 생성 (zeros_like, ones_like의 일반화 버전)\n",
        "\n",
        "print(np.full((2,3),3))  ## (shape), value\n",
        "print(np.full((2,3),3).dtype)\n",
        "print(np.full(shape = (2,3), fill_value = 3))\n",
        "print(np.full((2,3),3.).dtype)"
      ],
      "metadata": {
        "colab": {
          "base_uri": "https://localhost:8080/"
        },
        "id": "3ptcNIQDbCzU",
        "outputId": "8fe26c40-2d8e-41c8-d71b-fe8bd5b721a0"
      },
      "execution_count": null,
      "outputs": [
        {
          "output_type": "stream",
          "name": "stdout",
          "text": [
            "[[3 3 3]\n",
            " [3 3 3]]\n",
            "int64\n",
            "[[3 3 3]\n",
            " [3 3 3]]\n",
            "float64\n"
          ]
        }
      ]
    },
    {
      "cell_type": "code",
      "source": [
        "## eye: 주어진 shape에 맞춰서 Identical matrix 객체 생성\n",
        "\n",
        "print(np.eye(3)) ## (3,3)으로 단위행렬 객체 생성\n",
        "print(np.eye(3)*3) ## (3,3)으로 값이 3인 대각행렬 생성"
      ],
      "metadata": {
        "colab": {
          "base_uri": "https://localhost:8080/"
        },
        "id": "atpho_Biciry",
        "outputId": "f255e5f2-5734-4648-f538-c0e067390125"
      },
      "execution_count": null,
      "outputs": [
        {
          "output_type": "stream",
          "name": "stdout",
          "text": [
            "[[1. 0. 0.]\n",
            " [0. 1. 0.]\n",
            " [0. 0. 1.]]\n",
            "[[3. 0. 0.]\n",
            " [0. 3. 0.]\n",
            " [0. 0. 3.]]\n"
          ]
        }
      ]
    },
    {
      "cell_type": "code",
      "source": [
        "## random.randn: 표준정규분포로부터 주어진 shape에 맞춰 난수를 채운 ndarray 객체 생성\n",
        "## 표준정규분포: 평균이 0이고 표준편차가 1인 정규분포\n",
        "print(np.random.randn(3))  ## np.random.randn(shape)\n",
        "print()\n",
        "print(np.random.randn(3,3))\n",
        "print()\n",
        "print(np.random.randn(2,2,2))"
      ],
      "metadata": {
        "colab": {
          "base_uri": "https://localhost:8080/"
        },
        "id": "D-kQb30Dc9ec",
        "outputId": "e981e9ab-1a12-4ae5-d132-5ac275a52016"
      },
      "execution_count": null,
      "outputs": [
        {
          "output_type": "stream",
          "name": "stdout",
          "text": [
            "[1.8295381  0.1246484  0.96749318]\n",
            "\n",
            "[[-0.2517882   0.44918559  0.93397383]\n",
            " [ 0.25034041 -0.2458813  -0.61818323]\n",
            " [ 0.63617186 -1.27870902 -0.21354979]]\n",
            "\n",
            "[[[-1.00691411  0.4204177 ]\n",
            "  [-0.20299423 -0.51861932]]\n",
            "\n",
            " [[-0.23013911 -0.60539032]\n",
            "  [ 0.48277194 -0.7843241 ]]]\n"
          ]
        }
      ]
    },
    {
      "cell_type": "code",
      "source": [
        "## ndarray 객체는 reshape 속성 혹은 reshape 메소드를 통해 shape을 변경할 수 있다.\n",
        "\n",
        "my_array = np.arange(10)\n",
        "my_new_array = my_array.reshape(2,5)\n",
        "my_new_array2 = np.reshape(my_array, (2,-1))\n",
        "#reshpae 메소드: -1은 인터프리터가 자동으로 연산\n",
        "#성립될 수 없는 shape으로 모양을 변형하려고 하면(정수로 안떨어지면) error\n",
        "\n",
        "print(my_array)\n",
        "print()\n",
        "print(my_new_array)\n",
        "print()\n",
        "print(my_new_array2)"
      ],
      "metadata": {
        "id": "j6fuitehdZ4D",
        "colab": {
          "base_uri": "https://localhost:8080/"
        },
        "outputId": "440ab9fa-b1c2-47c6-b18b-7e6889cd0572"
      },
      "execution_count": null,
      "outputs": [
        {
          "output_type": "stream",
          "name": "stdout",
          "text": [
            "[0 1 2 3 4 5 6 7 8 9]\n",
            "\n",
            "[[0 1 2 3 4]\n",
            " [5 6 7 8 9]]\n",
            "\n",
            "[[0 1 2 3 4]\n",
            " [5 6 7 8 9]]\n"
          ]
        }
      ]
    },
    {
      "cell_type": "code",
      "source": [
        "## transpose: ndarray 객체는 T 속성 혹은 transpose 메소드를 통해 치환(transpose)할 수 있다.\n",
        "## 치환: 행과 열을 바꿈(전치행렬)\n",
        "\n",
        "print(my_new_array) #(2,5) shape\n",
        "print()\n",
        "my_new_array = my_new_array.T\n",
        "print(my_new_array) #(5,2) shape\n",
        "print()\n",
        "my_new_array = np.transpose(my_new_array)\n",
        "print(my_new_array) #(2,5) shape\n",
        "print()\n",
        "my_3d_array = np.arange(8).reshape(2,2,2)\n",
        "print(my_3d_array)\n",
        "print()\n",
        "my_3d_array = my_3d_array.T\n",
        "# 2D가 아닐 경우에는 항상 처음과 마지막 axis간의 치환이 이루어진다\n",
        "# (0,0,1) = 1 인데 transpose를 하면 (1,0,0)의 위치로 1이라는 원소가 들어가게 된다.\n",
        "print(my_3d_array)"
      ],
      "metadata": {
        "colab": {
          "base_uri": "https://localhost:8080/"
        },
        "id": "EtjRTwaYmwlo",
        "outputId": "6de27178-066d-4b5a-e4f9-ab8ea7df228a"
      },
      "execution_count": null,
      "outputs": [
        {
          "output_type": "stream",
          "name": "stdout",
          "text": [
            "[[0 1 2 3 4]\n",
            " [5 6 7 8 9]]\n",
            "\n",
            "[[0 5]\n",
            " [1 6]\n",
            " [2 7]\n",
            " [3 8]\n",
            " [4 9]]\n",
            "\n",
            "[[0 1 2 3 4]\n",
            " [5 6 7 8 9]]\n",
            "\n",
            "[[[0 1]\n",
            "  [2 3]]\n",
            "\n",
            " [[4 5]\n",
            "  [6 7]]]\n",
            "\n",
            "[[[0 4]\n",
            "  [2 6]]\n",
            "\n",
            " [[1 5]\n",
            "  [3 7]]]\n"
          ]
        }
      ]
    },
    {
      "cell_type": "code",
      "source": [
        "## swapaxes: 특정 축들간의 변경도 가능하다(transpose의 일반화 버전)\n",
        "\n",
        "my_3d_array = np.arange(8).reshape(2,2,2)\n",
        "print(my_3d_array)\n",
        "print()\n",
        "my_3d_array = np.swapaxes(my_3d_array,0,1) # 0번째와 1번째 축 간의 교환\n",
        "# 5가 (1,0,1) 이었는데 (0,1,1)로 위치가 바뀜\n",
        "print(my_3d_array)"
      ],
      "metadata": {
        "colab": {
          "base_uri": "https://localhost:8080/"
        },
        "id": "Idz_eSbINcgA",
        "outputId": "c6f2ecb1-527a-407b-911a-13e2deebbc9b"
      },
      "execution_count": null,
      "outputs": [
        {
          "output_type": "stream",
          "name": "stdout",
          "text": [
            "[[[0 1]\n",
            "  [2 3]]\n",
            "\n",
            " [[4 5]\n",
            "  [6 7]]]\n",
            "\n",
            "[[[0 1]\n",
            "  [4 5]]\n",
            "\n",
            " [[2 3]\n",
            "  [6 7]]]\n"
          ]
        }
      ]
    },
    {
      "cell_type": "code",
      "source": [
        "## ndarray의 결합과 분리와 관련된 메소드\n",
        "## 결합:hstack, vstack, stack, concatenate\n",
        "## 분리:split\n",
        "\n",
        "# hstack(horizontal stack): 넘파이 배열을 수평으로 쌓는다.\n",
        "count_to_ten = np.arange(1,11)\n",
        "count_to_twenty = np.hstack([count_to_ten, count_to_ten+10]) ## count_to_ten이라는 배열에 10을 더한 배열을 count_to_ten 배열에 수평으로 쌓는다.\n",
        "print(count_to_twenty)\n",
        "print()\n",
        "\n",
        "# vstack(vertical stack): 넘파이 배열을 수직으로 쌓는다.\n",
        "count_to_twenty = np.vstack([count_to_ten, count_to_ten+10]) ## count_to_ten이라는 배열에 10을 더한 배열을 count_to_ten 배열에 수직으로 쌓는다.\n",
        "print(count_to_twenty)\n",
        "print()\n",
        "\n",
        "# stack(hstack과 vstack의 일반화 버전): 새로운 축을 생성하여 그 방향으로 넘파이 배열을 결합한다.\n",
        "a = np.arange(1,5).reshape(2,2)\n",
        "print(a, a.ndim, a.shape)\n",
        "print(\"------------------------\")\n",
        "print(np.stack([a,a+4,a+8]), np.stack([a,a+4,a+8]).shape) #axis = 0\n",
        "print(\"------------------------\")\n",
        "print(np.stack([a,a+4,a+8],axis=1), np.stack([a,a+4,a+8],axis=1).shape) #axis = 1\n",
        "print(\"------------------------\")\n",
        "print(np.stack([a,a+4,a+8],axis=2), np.stack([a,a+4,a+8],axis=2).shape) #axis = 2"
      ],
      "metadata": {
        "colab": {
          "base_uri": "https://localhost:8080/"
        },
        "id": "URxOjzrWPDYq",
        "outputId": "ee2bb12e-f253-4cb0-9fb8-385014de99e4"
      },
      "execution_count": null,
      "outputs": [
        {
          "output_type": "stream",
          "name": "stdout",
          "text": [
            "[ 1  2  3  4  5  6  7  8  9 10 11 12 13 14 15 16 17 18 19 20]\n",
            "\n",
            "[[ 1  2  3  4  5  6  7  8  9 10]\n",
            " [11 12 13 14 15 16 17 18 19 20]]\n",
            "\n",
            "[[1 2]\n",
            " [3 4]] 2 (2, 2)\n",
            "------------------------\n",
            "[[[ 1  2]\n",
            "  [ 3  4]]\n",
            "\n",
            " [[ 5  6]\n",
            "  [ 7  8]]\n",
            "\n",
            " [[ 9 10]\n",
            "  [11 12]]] (3, 2, 2)\n",
            "------------------------\n",
            "[[[ 1  2]\n",
            "  [ 5  6]\n",
            "  [ 9 10]]\n",
            "\n",
            " [[ 3  4]\n",
            "  [ 7  8]\n",
            "  [11 12]]] (2, 3, 2)\n",
            "------------------------\n",
            "[[[ 1  5  9]\n",
            "  [ 2  6 10]]\n",
            "\n",
            " [[ 3  7 11]\n",
            "  [ 4  8 12]]] (2, 2, 3)\n"
          ]
        }
      ]
    },
    {
      "cell_type": "code",
      "source": [
        "## concatenate: stack과는 다르게 기존에 있던 축을 활용하여 배열을 연장하는 방식\n",
        "a = np.arange(1,5).reshape(2,2)\n",
        "print(np.concatenate([a,a+4,a+8]), np.concatenate([a,a+4,a+8]).shape) # axis=0 행 방향\n",
        "print()\n",
        "print(np.concatenate([a,a+4,a+8],axis=1), np.concatenate([a,a+4,a+8],axis=1).shape) # axis=1 열 방향\n",
        "## print(np.concatenate([a,a+4,a+8],axis=2), np.concatenate([a,a+4,a+8],axis=2).shape)\n",
        "## axis=2는 없는 축이기 때문에 오류발생"
      ],
      "metadata": {
        "colab": {
          "base_uri": "https://localhost:8080/"
        },
        "id": "fMPP9lXvTHVZ",
        "outputId": "56809a46-9070-40bb-d095-b62fdee478c7"
      },
      "execution_count": null,
      "outputs": [
        {
          "output_type": "stream",
          "name": "stdout",
          "text": [
            "[[ 1  2]\n",
            " [ 3  4]\n",
            " [ 5  6]\n",
            " [ 7  8]\n",
            " [ 9 10]\n",
            " [11 12]] (6, 2)\n",
            "\n",
            "[[ 1  2  5  6  9 10]\n",
            " [ 3  4  7  8 11 12]] (2, 6)\n"
          ]
        }
      ]
    },
    {
      "cell_type": "code",
      "source": [
        "## split: 넘파이 배열을 분리하는 메소드로 np.split(ary,indices_or_section,axis) 방식을 취한다.\n",
        "## 첫번째 인자인 ary는 원본 넘파이 배열이고 세번째 인자인 axis는 분리하는 축 방향을 의미한다.(0이 디폴트)\n",
        "## indices_or_sections에 해당하는 정수가 N이라면 분리되는 배열이 N개의 동일한 값을 가진다.(나눌 수 없다면 오류) 혹은 정렬된 1D 꼴이라면 배열의 요소값을 기준으로 값을 나눈다.\n",
        "\n",
        "x = np.arange(6)\n",
        "print(np.split(x,2)) ## 2등분\n",
        "print(np.split(x,3)) ## 3등분\n",
        "## print(np.split(x,4)) ## 6개의 원소를 4등분 할 수 없음(오류)\n",
        "print()\n",
        "\n",
        "x = np.arange(6)\n",
        "print(np.split(x,(2,3))) ## 인덱스 2와 3을 기준으로 분리(인덱스 2 이전에 한번 끊고, 3 이전에 한번 끊고)\n",
        "print(np.split(x,[2,4,5,9])) ## 인덱스 2,4,5,9를 기준으로 분리\n",
        "print()\n",
        "\n",
        "x = np.arange(6).reshape(2,3)\n",
        "print(x)\n",
        "print()\n",
        "print(np.split(x,2)) # axis=0, shape이 (2,3)이므로 0번째 축인 2가 2로 등분이 가능함\n",
        "print()\n",
        "print(np.split(x,3,axis=1)) # axis = 1, shape이 (2,3)이므로 1번째 축인 3이 3으로 등분이 가능함"
      ],
      "metadata": {
        "colab": {
          "base_uri": "https://localhost:8080/"
        },
        "id": "udI2TsQWWHVx",
        "outputId": "2072ba8b-1530-429c-9274-e12f50e126e6"
      },
      "execution_count": null,
      "outputs": [
        {
          "output_type": "stream",
          "name": "stdout",
          "text": [
            "[array([0, 1, 2]), array([3, 4, 5])]\n",
            "[array([0, 1]), array([2, 3]), array([4, 5])]\n",
            "\n",
            "[array([0, 1]), array([2]), array([3, 4, 5])]\n",
            "[array([0, 1]), array([2, 3]), array([4]), array([5]), array([], dtype=int64)]\n",
            "\n",
            "[[0 1 2]\n",
            " [3 4 5]]\n",
            "\n",
            "[array([[0, 1, 2]]), array([[3, 4, 5]])]\n",
            "\n",
            "[array([[0],\n",
            "       [3]]), array([[1],\n",
            "       [4]]), array([[2],\n",
            "       [5]])]\n"
          ]
        }
      ]
    },
    {
      "cell_type": "code",
      "source": [
        "## Probelms\n",
        "## 1. 다음중 값이 다른 하나는?\n",
        "# 1. np.array([1,2,3])\n",
        "# 2. np.array((3,6.0,9.8),dtype=int)//3\n",
        "# 3. np.array((True, \"2\", 3)).astype(int)\n",
        "# 4. np.array((True,\"2\",3), dtype=np.int64)\n",
        "\n",
        "## Answer 3\n",
        "# ndarray는 가장 보편적인 타입을 따라가는데 세 값이 모두 타입이 다르다. 문자열이 모든 타입을 표현할 수 있으므로\n",
        "# str타입으로 ndarray가 생성된다. 따라서 'True'를 int로 바꾸는 것을 python이 인식하지 못해 에러가 발생한다.\n",
        "# 반면에 4번은 int64로 ndarray 원소들의 타입을 정해주었기 때문에 True가 1로 반환되서 에러가 발생하지 않는다."
      ],
      "metadata": {
        "id": "LSHdQ8fbctME"
      },
      "execution_count": null,
      "outputs": []
    },
    {
      "cell_type": "code",
      "source": [
        "## 2. 다음 코드의 결과물로 올바른 것은?\n",
        "# np.array([1, 2.0, 3]) == np.array((1.0, 2, 3))\n",
        "\n",
        "## Answer: array([True,True,True])\n",
        "# ndarray배열을 비교할 경우 각 원소를 하나씩 대응하여 비교한 결과를 배열로 반환한다."
      ],
      "metadata": {
        "id": "ZtbskwnzzPho"
      },
      "execution_count": null,
      "outputs": []
    },
    {
      "cell_type": "code",
      "source": [
        "## 3. 다음 코드의 결과물은?\n",
        "## np.arange(6).flatten().shape + (np.random.rand(2,3).reshape(6,-1).ndim,)\n",
        "\n",
        "## Answer\n",
        "# np.arange(6).flatten().shape = (6,) = 배열이 1차원이고 길이가 6이라는 뜻\n",
        "# (np.random.rand(2,3).reshape(6,-1).ndim,) = 2*3 짜리 평균이 0이고 표준편차가 1인 원소들로 채우고, 원소들의 shape을 (6,1)로 바꿈\n",
        "# (6,) + (2,) = (6,2) (튜플의 연산, 리스트의 +나 extend연산처럼 옆에 원소를 추가한다)"
      ],
      "metadata": {
        "id": "cb6-tHqt0umM"
      },
      "execution_count": null,
      "outputs": []
    },
    {
      "cell_type": "code",
      "source": [
        "## 4. 다음 코드의 결과물은?\n",
        "## np.concatenate([np.array(np.split(np.arange(9),(3,6))), np.arange(6).reshape(-1,3)]).shape\n",
        "\n",
        "## Answer\n",
        "# np.array(np.split(np.arange(9),(3,6))) = (3,3) shape인 2차원 행렬\n",
        "# np.arange(6).reshape(-1,3) = (2,3) shape인 2차원 행렬\n",
        "# 둘을 axis=0(행으로) concatenate하면 (5,3) shape인 2차원 행렬이 된다."
      ],
      "metadata": {
        "id": "rDXMQYLE1kgQ"
      },
      "execution_count": null,
      "outputs": []
    },
    {
      "cell_type": "code",
      "source": [],
      "metadata": {
        "id": "a3UiVr8E8TXJ"
      },
      "execution_count": null,
      "outputs": []
    }
  ]
}