{
  "nbformat": 4,
  "nbformat_minor": 0,
  "metadata": {
    "colab": {
      "provenance": [],
      "authorship_tag": "ABX9TyMy3Hb9I431mCsxii2YwRRq",
      "include_colab_link": true
    },
    "kernelspec": {
      "name": "python3",
      "display_name": "Python 3"
    },
    "language_info": {
      "name": "python"
    }
  },
  "cells": [
    {
      "cell_type": "markdown",
      "metadata": {
        "id": "view-in-github",
        "colab_type": "text"
      },
      "source": [
        "<a href=\"https://colab.research.google.com/github/rioluvy/Data-analysis-and-visualization/blob/main/Encapsulation/M3.ipynb\" target=\"_parent\"><img src=\"https://colab.research.google.com/assets/colab-badge.svg\" alt=\"Open In Colab\"/></a>"
      ]
    },
    {
      "cell_type": "code",
      "execution_count": null,
      "metadata": {
        "id": "1Ua-NS8PNmy7"
      },
      "outputs": [],
      "source": [
        "## MO3 - Numpy 배열 마스킹"
      ]
    },
    {
      "cell_type": "code",
      "source": [
        "import numpy as np"
      ],
      "metadata": {
        "id": "vKF4bk07RL-I"
      },
      "execution_count": null,
      "outputs": []
    },
    {
      "cell_type": "code",
      "source": [
        "## Masking: 불필요한 것들을 걸러내고 배열의 특정 부분만 표시하는 것\n",
        "## 일반적으로 마스크의 값들은 boolean자료형으로 구성하며, 마스크의 원소값이 True면 대응되는 원본배열의 원소를 가져오고 False면 걸러내는 방식을 취한다.\n",
        "## 대량의 데이터를 사용할 때 특정 데이터만 추출하고자 하면 반복문보다는 마스킹 기법이 효율적으로 작동될 수 있다."
      ],
      "metadata": {
        "id": "PNa-G4q7ROLc"
      },
      "execution_count": null,
      "outputs": []
    },
    {
      "cell_type": "code",
      "source": [
        "my_first_mask = np.array([True, False, True, False])\n",
        "my_second_mask = np.array([1,0,1,0], dtype = bool)\n",
        "print(my_first_mask)\n",
        "print(my_second_mask) ## my_first_mask와 동치\n",
        "print()\n",
        "sample_arr = np.arange(12).reshape(4,3)\n",
        "print(sample_arr)\n",
        "print(sample_arr[my_first_mask]) #(4,3) (4,) shape 성립, 마스크의 정보에 따라 0행과 2행만을 가져와 새로운 배열을 만듦."
      ],
      "metadata": {
        "colab": {
          "base_uri": "https://localhost:8080/"
        },
        "id": "-Lyq5uquR2CV",
        "outputId": "163fdbdb-140f-4115-d4dd-32bbb3f99f8a"
      },
      "execution_count": null,
      "outputs": [
        {
          "output_type": "stream",
          "name": "stdout",
          "text": [
            "[ True False  True False]\n",
            "[ True False  True False]\n",
            "\n",
            "[[ 0  1  2]\n",
            " [ 3  4  5]\n",
            " [ 6  7  8]\n",
            " [ 9 10 11]]\n",
            "[[0 1 2]\n",
            " [6 7 8]]\n"
          ]
        }
      ]
    },
    {
      "cell_type": "code",
      "source": [
        "## 마스크의 shape은 기존 배열의 shape의 차원 '앞'에서부터 대응이 되어야 한다. 기존 배열의 shape의 차원 앞에서부터 축의 길이가 동일해야 한다. (마스크 배열 사이즈 <= 기존 배열 사이즈)\n",
        "## shape이 맞지 않는 경우 IndexError가 발생한다.\n",
        "\n",
        "mask1 = np.array([[True,False,True],[True,False,True],[True,False,True],[True,False,True]])\n",
        "print(sample_arr[mask1]) # (4,3) (4,3) 성립, 완전히 shape이 같기 때문에 element-wise로 수행\n",
        "print(type(sample_arr[mask1]))\n",
        "print()\n",
        "\n",
        "mask2 = mask1.flatten() # mask1배열을 1D로 변경 = (12,)\n",
        "print(mask2)\n",
        "# print(sample_arr[mask2]) #IndexError"
      ],
      "metadata": {
        "colab": {
          "base_uri": "https://localhost:8080/"
        },
        "id": "5ckxWk2oSuvp",
        "outputId": "fbf0a931-1507-440b-c06a-5de2aff70093"
      },
      "execution_count": null,
      "outputs": [
        {
          "output_type": "stream",
          "name": "stdout",
          "text": [
            "[ 0  2  3  5  6  8  9 11]\n",
            "<class 'numpy.ndarray'>\n",
            "\n",
            "[ True False  True  True False  True  True False  True  True False  True]\n"
          ]
        }
      ]
    },
    {
      "cell_type": "code",
      "source": [
        "## ndarray 배열 객체에 ~를 접두하면 내부 원소들에 비트 연산 NOT을 수행한다.\n",
        "## 이 점을 활용하여 마스크 배열 앞에 ~를 접두하여 마스크의 False 데이터만 추출할 수 있다.\n",
        "print(~np.array([True]))\n",
        "print(~np.array([False]))\n",
        "print(sample_arr[my_first_mask])\n",
        "print(\"-----------1----------\")\n",
        "print(sample_arr[~my_first_mask])\n",
        "print(\"-----------2----------\")\n",
        "print(~sample_arr[my_first_mask]) # int값 자체에 NOT연산 수행\n",
        "print(\"-----------3----------\")\n",
        "\n",
        "## 마스크 내부 원소 값들을 int자료형으로 구성할 수도 있다. 다만 작동하는 방식은 bool자료형과 다르게 작동하는데 원소값은 행의 인덱스 값으로 인식이 된다.\n",
        "int_mask = np.array([1,0,1,0],dtype = int) # 1행, 0행, 1행, 0행\n",
        "print(sample_arr)\n",
        "print(\"-----------4----------\")\n",
        "print(sample_arr[int_mask])"
      ],
      "metadata": {
        "colab": {
          "base_uri": "https://localhost:8080/"
        },
        "id": "nrHR7C06UekH",
        "outputId": "5356471b-ec23-4a17-9efa-065c3169de1a"
      },
      "execution_count": null,
      "outputs": [
        {
          "output_type": "stream",
          "name": "stdout",
          "text": [
            "[False]\n",
            "[ True]\n",
            "[[0 1 2]\n",
            " [6 7 8]]\n",
            "-----------1----------\n",
            "[[ 3  4  5]\n",
            " [ 9 10 11]]\n",
            "-----------2----------\n",
            "[[-1 -2 -3]\n",
            " [-7 -8 -9]]\n",
            "-----------3----------\n",
            "[[ 0  1  2]\n",
            " [ 3  4  5]\n",
            " [ 6  7  8]\n",
            " [ 9 10 11]]\n",
            "-----------4----------\n",
            "[[3 4 5]\n",
            " [0 1 2]\n",
            " [3 4 5]\n",
            " [0 1 2]]\n"
          ]
        }
      ]
    },
    {
      "cell_type": "code",
      "source": [
        "## 매번 배열들에 대응되는 마스크 값을 일일히 지정할 수가 없다.\n",
        "## 배열들의 데이터를 필터링 하는 기준이 있을테니 이를 활용하는 것이 좋은 방식\n",
        "## 원본 배열에서 각종 연산을 거쳐서 이를 마스크 배열로써 활용해보자.\n",
        "print(sample_arr)\n",
        "print(\"--------------------\")\n",
        "print(sample_arr[sample_arr >= 5])\n",
        "print(\"--------------------\")\n",
        "print(sample_arr[sample_arr%2 == 0])\n",
        "\n",
        "## sample_arr와 똑같은 shape이지만 부등호에 따라 T,F로 마스크 배열을 논리적으로 생성"
      ],
      "metadata": {
        "colab": {
          "base_uri": "https://localhost:8080/"
        },
        "id": "bV2J9bF8Wzuj",
        "outputId": "829ac759-4aca-4274-b451-315d3f323f9e"
      },
      "execution_count": null,
      "outputs": [
        {
          "output_type": "stream",
          "name": "stdout",
          "text": [
            "[[ 0  1  2]\n",
            " [ 3  4  5]\n",
            " [ 6  7  8]\n",
            " [ 9 10 11]]\n",
            "--------------------\n",
            "[ 5  6  7  8  9 10 11]\n",
            "--------------------\n",
            "[ 0  2  4  6  8 10]\n"
          ]
        }
      ]
    },
    {
      "cell_type": "code",
      "source": [
        "arr = np.array([1.7,0,False,True])\n",
        "arr += arr-arr.astype(int)>=0.5\n",
        "arr2 = arr[arr.astype(int)]\n",
        "\n",
        "print(arr+arr2)"
      ],
      "metadata": {
        "colab": {
          "base_uri": "https://localhost:8080/"
        },
        "id": "jQCDt8MTY0ml",
        "outputId": "7ff5032f-cf0a-46f9-a3cc-7a66910947a4"
      },
      "execution_count": null,
      "outputs": [
        {
          "output_type": "stream",
          "name": "stdout",
          "text": [
            "[2.7 2.7 2.7 1. ]\n"
          ]
        }
      ]
    },
    {
      "cell_type": "code",
      "source": [
        "diagonal_mask = (np.eye(5) == 1)\n",
        "print(diagonal_mask)"
      ],
      "metadata": {
        "colab": {
          "base_uri": "https://localhost:8080/"
        },
        "id": "1A57el6Aa-jb",
        "outputId": "ff456c8b-a146-4cc1-ce9b-7e418511405c"
      },
      "execution_count": null,
      "outputs": [
        {
          "output_type": "stream",
          "name": "stdout",
          "text": [
            "[[ True False False False False]\n",
            " [False  True False False False]\n",
            " [False False  True False False]\n",
            " [False False False  True False]\n",
            " [False False False False  True]]\n"
          ]
        }
      ]
    },
    {
      "cell_type": "code",
      "source": [
        "arr = np.arange(1,26).reshape(5,5)\n",
        "arr[~diagonal_mask] = 0\n",
        "print(arr)"
      ],
      "metadata": {
        "id": "u3a-ewlfgnSE",
        "colab": {
          "base_uri": "https://localhost:8080/"
        },
        "outputId": "13aa1bb9-8309-43c7-a752-2e43e9ce3462"
      },
      "execution_count": null,
      "outputs": [
        {
          "output_type": "stream",
          "name": "stdout",
          "text": [
            "[[ 1  0  0  0  0]\n",
            " [ 0  7  0  0  0]\n",
            " [ 0  0 13  0  0]\n",
            " [ 0  0  0 19  0]\n",
            " [ 0  0  0  0 25]]\n"
          ]
        }
      ]
    },
    {
      "cell_type": "code",
      "source": [],
      "metadata": {
        "id": "0OVCECr_qUsf"
      },
      "execution_count": null,
      "outputs": []
    }
  ]
}