{
  "nbformat": 4,
  "nbformat_minor": 0,
  "metadata": {
    "colab": {
      "provenance": [],
      "authorship_tag": "ABX9TyOedmRZLewWGLlOuEgZ9q0z",
      "include_colab_link": true
    },
    "kernelspec": {
      "name": "python3",
      "display_name": "Python 3"
    },
    "language_info": {
      "name": "python"
    }
  },
  "cells": [
    {
      "cell_type": "markdown",
      "metadata": {
        "id": "view-in-github",
        "colab_type": "text"
      },
      "source": [
        "<a href=\"https://colab.research.google.com/github/rioluvy/Data-analysis-and-visualization/blob/main/M2.ipynb\" target=\"_parent\"><img src=\"https://colab.research.google.com/assets/colab-badge.svg\" alt=\"Open In Colab\"/></a>"
      ]
    },
    {
      "cell_type": "code",
      "execution_count": null,
      "metadata": {
        "id": "xVYeL8F6ohzB"
      },
      "outputs": [],
      "source": [
        "## MO2 - Numpy 배열 브로드캐스팅"
      ]
    },
    {
      "cell_type": "code",
      "source": [
        "import numpy as np"
      ],
      "metadata": {
        "id": "L9Dh2G4LpA1I"
      },
      "execution_count": null,
      "outputs": []
    },
    {
      "cell_type": "code",
      "source": [
        "## Broadcast: 행렬의 차원이나 크기가 다르더라도 일정한 조건을 충족하면 자동으로 확정하여 연산하는 것\n",
        "## 선형대수에서는 연산을 할때 반드시 기본적으로 행렬의 크기(shape)가 동일해야 했지만 Numpy는 Broadcating을 지원하여 확장연산이 가능하다\n",
        "\n",
        "# scala-broadingcasting: 스칼라와 배열과의 연산은 Broadcasting을 통해 element-wise연산을 수행한다.\n",
        "x = np.array([[1,2],[3,4]])\n",
        "print(x+5) # addition\n",
        "print(x-3.) # substraction\n",
        "print(x*2) # product\n",
        "print(x/2) # division\n",
        "print(x//2) # floor division\n",
        "print(x%2) # modulus\n",
        "print(x**2) # power\n",
        "print(np.sqrt(x)) # square root"
      ],
      "metadata": {
        "colab": {
          "base_uri": "https://localhost:8080/"
        },
        "id": "EvIfK7-lpCfv",
        "outputId": "b15b889d-fd1f-443d-d6e7-90abd69ac85e"
      },
      "execution_count": null,
      "outputs": [
        {
          "output_type": "stream",
          "name": "stdout",
          "text": [
            "[[6 7]\n",
            " [8 9]]\n",
            "[[-2. -1.]\n",
            " [ 0.  1.]]\n",
            "[[2 4]\n",
            " [6 8]]\n",
            "[[0.5 1. ]\n",
            " [1.5 2. ]]\n",
            "[[0 1]\n",
            " [1 2]]\n",
            "[[1 0]\n",
            " [1 0]]\n",
            "[[ 1  4]\n",
            " [ 9 16]]\n",
            "[[1.         1.41421356]\n",
            " [1.73205081 2.        ]]\n"
          ]
        }
      ]
    },
    {
      "cell_type": "code",
      "source": [
        "## Broadcasting을 수행함에 있어 준수해야하는 특정한 규칙: 연산하는 배열들의 뒤에서부터 대응하는 축의 길이가 동일 혹은 1이어야만 한다.\n",
        "# scala-broadcating은 스칼라 자체의 축의 길이가 1이여서 신경을 쓸 필요가 없었다. (5 => (1,))\n",
        "# 나머지 broadcasing은 위 조건이 충족되지 않으면 배열의 모양이 호환되지 않기에 ValueError가 발생한다.\n",
        "# 연산 결과로 반환되는 배열은 입력 배열들의 차원 중에 가장 큰 크기로 반환된다.\n",
        "\n",
        "arr1 = np.random.randn(30).reshape(2,3,5)\n",
        "arr2 = np.random.randn(10).reshape(2,1,5)\n",
        "print(arr1+arr2, (arr1+arr2).shape) # 가장 큰 크기인 arr1의 shape을 따라간다.\n",
        "# 위의 예제는 뒤에서부터 shape의 크기가 5로 동일, 두번째는 3과 1이지만 1이기에 가능, 첫번째는 2로 동일 => 연산가능"
      ],
      "metadata": {
        "colab": {
          "base_uri": "https://localhost:8080/"
        },
        "id": "lJ0sU1fNq5j0",
        "outputId": "2b404f27-86f7-4de1-d43d-8eb2d433b1a0"
      },
      "execution_count": null,
      "outputs": [
        {
          "output_type": "stream",
          "name": "stdout",
          "text": [
            "[[[-1.09132978  0.60255873 -1.66934887  0.89417523  3.32810029]\n",
            "  [-2.24620436  1.36492193 -0.37423338 -1.05961311  0.37666168]\n",
            "  [-2.05052896  0.25241982 -0.43845514  0.66658557 -1.17087227]]\n",
            "\n",
            " [[ 0.75125812  0.11945531  2.16480678 -0.73959055  2.14705491]\n",
            "  [-0.54030867  0.77394377  1.84121734  0.32123069  1.20599605]\n",
            "  [-0.95341939 -3.35920329  2.19337912 -0.16312716  1.10569341]]] (2, 3, 5)\n"
          ]
        }
      ]
    },
    {
      "cell_type": "code",
      "source": [
        "## 차원이 다른 배열의 Broadcasting\n",
        "arr1 = np.arange(30).reshape(2,3,5)\n",
        "arr2 = np.arange(15).reshape(3,5)\n",
        "# 뒤에서부터 대응하는 축의 길이가 동일하므로 연산 가능 5와 3\n",
        "print(arr1*arr2)\n",
        "print((arr1*arr2).shape)"
      ],
      "metadata": {
        "colab": {
          "base_uri": "https://localhost:8080/"
        },
        "id": "P9uNHcptsKyT",
        "outputId": "d7da8d90-0b34-4e73-b09c-609166969a50"
      },
      "execution_count": null,
      "outputs": [
        {
          "output_type": "stream",
          "name": "stdout",
          "text": [
            "[[[  0   1   4   9  16]\n",
            "  [ 25  36  49  64  81]\n",
            "  [100 121 144 169 196]]\n",
            "\n",
            " [[  0  16  34  54  76]\n",
            "  [100 126 154 184 216]\n",
            "  [250 286 324 364 406]]]\n",
            "(2, 3, 5)\n"
          ]
        }
      ]
    },
    {
      "cell_type": "code",
      "source": [
        "## Broadcasting에서 배열이 확장될 때 원소가 실제로 추가되기보다는 배열의 모양을 맞추기 위해 기존 원소가 '논리적'으로 복제된다."
      ],
      "metadata": {
        "id": "FqrBoomOs4c_"
      },
      "execution_count": null,
      "outputs": []
    },
    {
      "cell_type": "code",
      "source": [],
      "metadata": {
        "id": "1yG6w5PtCJ9S"
      },
      "execution_count": null,
      "outputs": []
    }
  ]
}