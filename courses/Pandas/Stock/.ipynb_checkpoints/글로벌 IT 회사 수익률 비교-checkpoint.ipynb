{
 "cells": [
  {
   "cell_type": "code",
   "execution_count": 4,
   "metadata": {},
   "outputs": [
    {
     "name": "stderr",
     "output_type": "stream",
     "text": [
      "C:\\Users\\actruce\\anaconda3\\lib\\site-packages\\pandas\\core\\computation\\expressions.py:20: UserWarning: Pandas requires version '2.7.3' or newer of 'numexpr' (version '2.7.1' currently installed).\n",
      "  from pandas.core.computation.check import NUMEXPR_INSTALLED\n"
     ]
    }
   ],
   "source": [
    "import pandas as pd\n",
    "import numpy as np\n",
    "import matplotlib.pyplot as plt\n",
    "import sys, os, time"
   ]
  },
  {
   "cell_type": "code",
   "execution_count": 5,
   "metadata": {},
   "outputs": [],
   "source": [
    "company_list = ['SAMSUNG','HYNIX','NVIDIA','TSMC','APPLE', 'TESLA']"
   ]
  },
  {
   "cell_type": "code",
   "execution_count": 6,
   "metadata": {},
   "outputs": [],
   "source": [
    "df_list =[]\n",
    "for company in company_list:\n",
    "    df_temp = pd.read_csv(f'{company}.csv')\n",
    "    df_list.append(df_temp)"
   ]
  },
  {
   "cell_type": "code",
   "execution_count": 7,
   "metadata": {},
   "outputs": [
    {
     "name": "stdout",
     "output_type": "stream",
     "text": [
      "<class 'pandas.core.frame.DataFrame'>\n",
      "DatetimeIndex: 8976 entries, 2000-01-04 to 2024-07-31\n",
      "Freq: D\n",
      "Data columns (total 2 columns):\n",
      " #   Column  Non-Null Count  Dtype  \n",
      "---  ------  --------------  -----  \n",
      " 0   Close   8976 non-null   float64\n",
      " 1   Volume  8976 non-null   int64  \n",
      "dtypes: float64(1), int64(1)\n",
      "memory usage: 210.4 KB\n",
      "<class 'pandas.core.frame.DataFrame'>\n",
      "DatetimeIndex: 8976 entries, 2000-01-04 to 2024-07-31\n",
      "Freq: D\n",
      "Data columns (total 2 columns):\n",
      " #   Column  Non-Null Count  Dtype  \n",
      "---  ------  --------------  -----  \n",
      " 0   Close   8976 non-null   float64\n",
      " 1   Volume  8976 non-null   int64  \n",
      "dtypes: float64(1), int64(1)\n",
      "memory usage: 210.4 KB\n",
      "<class 'pandas.core.frame.DataFrame'>\n",
      "DatetimeIndex: 8977 entries, 2000-01-03 to 2024-07-31\n",
      "Freq: D\n",
      "Data columns (total 2 columns):\n",
      " #   Column  Non-Null Count  Dtype  \n",
      "---  ------  --------------  -----  \n",
      " 0   Close   8977 non-null   float64\n",
      " 1   Volume  8977 non-null   int64  \n",
      "dtypes: float64(1), int64(1)\n",
      "memory usage: 210.4 KB\n",
      "<class 'pandas.core.frame.DataFrame'>\n",
      "DatetimeIndex: 8976 entries, 2000-01-04 to 2024-07-31\n",
      "Freq: D\n",
      "Data columns (total 2 columns):\n",
      " #   Column  Non-Null Count  Dtype  \n",
      "---  ------  --------------  -----  \n",
      " 0   Close   8976 non-null   float64\n",
      " 1   Volume  8976 non-null   int64  \n",
      "dtypes: float64(1), int64(1)\n",
      "memory usage: 210.4 KB\n",
      "<class 'pandas.core.frame.DataFrame'>\n",
      "DatetimeIndex: 8977 entries, 2000-01-03 to 2024-07-31\n",
      "Freq: D\n",
      "Data columns (total 2 columns):\n",
      " #   Column  Non-Null Count  Dtype  \n",
      "---  ------  --------------  -----  \n",
      " 0   Close   8977 non-null   float64\n",
      " 1   Volume  8977 non-null   int64  \n",
      "dtypes: float64(1), int64(1)\n",
      "memory usage: 210.4 KB\n",
      "<class 'pandas.core.frame.DataFrame'>\n",
      "DatetimeIndex: 5147 entries, 2010-06-29 to 2024-07-31\n",
      "Freq: D\n",
      "Data columns (total 2 columns):\n",
      " #   Column  Non-Null Count  Dtype  \n",
      "---  ------  --------------  -----  \n",
      " 0   Close   5147 non-null   float64\n",
      " 1   Volume  5147 non-null   int64  \n",
      "dtypes: float64(1), int64(1)\n",
      "memory usage: 120.6 KB\n"
     ]
    }
   ],
   "source": [
    "df_close_list = []\n",
    "\n",
    "for df in df_list:\n",
    "    df_mod = df.copy()\n",
    "    df_mod.drop(['Open','High','Low','Adj Close'], axis=1, inplace=True)\n",
    "    df_mod.Date = pd.to_datetime(df_mod.Date)\n",
    "    df_mod.set_index('Date', inplace=True)\n",
    "    df_mod = df_mod.asfreq('D', method='ffill')\n",
    "    df_mod.info()\n",
    "    df_close_list.append(df_mod)"
   ]
  },
  {
   "cell_type": "code",
   "execution_count": 8,
   "metadata": {},
   "outputs": [
    {
     "data": {
      "text/html": [
       "<div>\n",
       "<style scoped>\n",
       "    .dataframe tbody tr th:only-of-type {\n",
       "        vertical-align: middle;\n",
       "    }\n",
       "\n",
       "    .dataframe tbody tr th {\n",
       "        vertical-align: top;\n",
       "    }\n",
       "\n",
       "    .dataframe thead th {\n",
       "        text-align: right;\n",
       "    }\n",
       "</style>\n",
       "<table border=\"1\" class=\"dataframe\">\n",
       "  <thead>\n",
       "    <tr style=\"text-align: right;\">\n",
       "      <th></th>\n",
       "      <th>Close</th>\n",
       "      <th>Volume</th>\n",
       "    </tr>\n",
       "    <tr>\n",
       "      <th>Date</th>\n",
       "      <th></th>\n",
       "      <th></th>\n",
       "    </tr>\n",
       "  </thead>\n",
       "  <tbody>\n",
       "    <tr>\n",
       "      <th>2000-01-04</th>\n",
       "      <td>6110.0</td>\n",
       "      <td>74195000</td>\n",
       "    </tr>\n",
       "    <tr>\n",
       "      <th>2000-01-05</th>\n",
       "      <td>5580.0</td>\n",
       "      <td>74680000</td>\n",
       "    </tr>\n",
       "    <tr>\n",
       "      <th>2000-01-06</th>\n",
       "      <td>5620.0</td>\n",
       "      <td>54390000</td>\n",
       "    </tr>\n",
       "    <tr>\n",
       "      <th>2000-01-07</th>\n",
       "      <td>5540.0</td>\n",
       "      <td>40305000</td>\n",
       "    </tr>\n",
       "    <tr>\n",
       "      <th>2000-01-08</th>\n",
       "      <td>5540.0</td>\n",
       "      <td>40305000</td>\n",
       "    </tr>\n",
       "  </tbody>\n",
       "</table>\n",
       "</div>"
      ],
      "text/plain": [
       "             Close    Volume\n",
       "Date                        \n",
       "2000-01-04  6110.0  74195000\n",
       "2000-01-05  5580.0  74680000\n",
       "2000-01-06  5620.0  54390000\n",
       "2000-01-07  5540.0  40305000\n",
       "2000-01-08  5540.0  40305000"
      ]
     },
     "execution_count": 8,
     "metadata": {},
     "output_type": "execute_result"
    }
   ],
   "source": [
    "df_close_list[0].head() # samsung"
   ]
  },
  {
   "cell_type": "markdown",
   "metadata": {},
   "source": [
    "#### 일별 변동률 계산 = ((오늘 종가)/(어제 종가) -1 )*100"
   ]
  },
  {
   "cell_type": "code",
   "execution_count": 9,
   "metadata": {
    "scrolled": true
   },
   "outputs": [],
   "source": [
    "df_dpc_list = []\n",
    "\n",
    "for df in df_close_list:\n",
    "    df_close = df['Close']\n",
    "    df_dpc = (df_close/df_close.shift(1) - 1)*100\n",
    "    df_dpc.name = 'dpc'\n",
    "    df_dpc.iloc[0] = 0\n",
    "    df = pd.concat((df, df_dpc), axis=1)\n",
    "    df_dpc_list.append(df)"
   ]
  },
  {
   "cell_type": "code",
   "execution_count": 10,
   "metadata": {
    "scrolled": true
   },
   "outputs": [
    {
     "data": {
      "text/html": [
       "<div>\n",
       "<style scoped>\n",
       "    .dataframe tbody tr th:only-of-type {\n",
       "        vertical-align: middle;\n",
       "    }\n",
       "\n",
       "    .dataframe tbody tr th {\n",
       "        vertical-align: top;\n",
       "    }\n",
       "\n",
       "    .dataframe thead th {\n",
       "        text-align: right;\n",
       "    }\n",
       "</style>\n",
       "<table border=\"1\" class=\"dataframe\">\n",
       "  <thead>\n",
       "    <tr style=\"text-align: right;\">\n",
       "      <th></th>\n",
       "      <th>Close</th>\n",
       "      <th>Volume</th>\n",
       "      <th>dpc</th>\n",
       "    </tr>\n",
       "    <tr>\n",
       "      <th>Date</th>\n",
       "      <th></th>\n",
       "      <th></th>\n",
       "      <th></th>\n",
       "    </tr>\n",
       "  </thead>\n",
       "  <tbody>\n",
       "    <tr>\n",
       "      <th>2000-01-04</th>\n",
       "      <td>6110.0</td>\n",
       "      <td>74195000</td>\n",
       "      <td>0.000000</td>\n",
       "    </tr>\n",
       "    <tr>\n",
       "      <th>2000-01-05</th>\n",
       "      <td>5580.0</td>\n",
       "      <td>74680000</td>\n",
       "      <td>-8.674304</td>\n",
       "    </tr>\n",
       "    <tr>\n",
       "      <th>2000-01-06</th>\n",
       "      <td>5620.0</td>\n",
       "      <td>54390000</td>\n",
       "      <td>0.716846</td>\n",
       "    </tr>\n",
       "    <tr>\n",
       "      <th>2000-01-07</th>\n",
       "      <td>5540.0</td>\n",
       "      <td>40305000</td>\n",
       "      <td>-1.423488</td>\n",
       "    </tr>\n",
       "    <tr>\n",
       "      <th>2000-01-08</th>\n",
       "      <td>5540.0</td>\n",
       "      <td>40305000</td>\n",
       "      <td>0.000000</td>\n",
       "    </tr>\n",
       "  </tbody>\n",
       "</table>\n",
       "</div>"
      ],
      "text/plain": [
       "             Close    Volume       dpc\n",
       "Date                                  \n",
       "2000-01-04  6110.0  74195000  0.000000\n",
       "2000-01-05  5580.0  74680000 -8.674304\n",
       "2000-01-06  5620.0  54390000  0.716846\n",
       "2000-01-07  5540.0  40305000 -1.423488\n",
       "2000-01-08  5540.0  40305000  0.000000"
      ]
     },
     "execution_count": 10,
     "metadata": {},
     "output_type": "execute_result"
    }
   ],
   "source": [
    "df_dpc_list[0].head()"
   ]
  },
  {
   "cell_type": "code",
   "execution_count": 11,
   "metadata": {},
   "outputs": [],
   "source": [
    "# df_dpc_dict['회사'] = df_dpc\n",
    "\n",
    "df_dpc_dict = dict(zip(company_list, df_dpc_list))"
   ]
  },
  {
   "cell_type": "markdown",
   "metadata": {},
   "source": [
    "#### 일간 변동률 누적곱 계산 (기하평균 계산) = ((100+일간변동률)/100).cumprod()*100 - 100\n",
    "- 시작일을 언제로 하느냐에 따라 결과가 달라짐"
   ]
  },
  {
   "cell_type": "markdown",
   "metadata": {},
   "source": [
    "### 회사별 투자시작 시간을 넣으면 수익률을 리턴하는 함수 작성하여 확인"
   ]
  },
  {
   "cell_type": "code",
   "execution_count": 12,
   "metadata": {},
   "outputs": [],
   "source": [
    "def get_cur_profit(company, df_dpc_dict, start_date, end_date=None):\n",
    "    \n",
    "    df_dpc = df_dpc_dict[company]\n",
    "    \n",
    "    if end_date is not None:\n",
    "        df_dpc_p = df_dpc.loc[start_date:end_date,'dpc']\n",
    "    else:\n",
    "        df_dpc_p = df_dpc.loc[start_date:,'dpc']\n",
    "        \n",
    "    df_dpc_p.iloc[0] = 0\n",
    "    df_dpc_p_cp = ((100+df_dpc_p)/100).cumprod()*100 - 100\n",
    "    df_dpc_p_cp.name = 'dcp_cp'\n",
    "    \n",
    "    if end_date is not None:\n",
    "        df_dpc_p_cp = pd.concat((df_dpc.loc[start_date:end_date], df_dpc_p_cp), axis=1)\n",
    "    else:\n",
    "        df_dpc_p_cp = pd.concat((df_dpc.loc[start_date:], df_dpc_p_cp), axis=1)\n",
    "        \n",
    "    profit = df_dpc_p_cp.iloc[-1, 3]\n",
    "    \n",
    "    return profit, df_dpc_p_cp"
   ]
  },
  {
   "cell_type": "code",
   "execution_count": 13,
   "metadata": {
    "scrolled": true
   },
   "outputs": [
    {
     "name": "stdout",
     "output_type": "stream",
     "text": [
      "company:NVIDIA, profit:2694.34\n",
      "start_date:2019-09-01 00:00:00->Close:4.187749862670898\n",
      "end_date:2024-07-31 00:00:00->Close:117.0199966430664\n"
     ]
    }
   ],
   "source": [
    "company = 'NVIDIA'\n",
    "start_date, end_date = '2019-09-01', None\n",
    "profit, df_dpc_p_cp = get_cur_profit(company, df_dpc_dict, start_date, end_date)\n",
    "\n",
    "print(f'company:{company}, profit:{profit:.2f}')\n",
    "print(f'start_date:{df_dpc_p_cp.index[0]}->Close:{df_dpc_p_cp.iloc[0,0]}')\n",
    "print(f'end_date:{df_dpc_p_cp.index[-1]}->Close:{df_dpc_p_cp.iloc[-1,0]}')"
   ]
  },
  {
   "cell_type": "markdown",
   "metadata": {},
   "source": [
    "### 회사별 동일 기간의 누적 수익률 그래프"
   ]
  },
  {
   "cell_type": "code",
   "execution_count": 20,
   "metadata": {},
   "outputs": [
    {
     "data": {
      "text/plain": [
       "<matplotlib.legend.Legend at 0x1e6a4453b50>"
      ]
     },
     "execution_count": 20,
     "metadata": {},
     "output_type": "execute_result"
    },
    {
     "data": {
      "image/png": "[encoded data removed]",
      "text/plain": [
       "<Figure size 864x576 with 1 Axes>"
      ]
     },
     "metadata": {
      "needs_background": "light"
     },
     "output_type": "display_data"
    }
   ],
   "source": [
    "start_date, end_date = '2020-01-01', None\n",
    "\n",
    "df_dpc_p_cp_list = []\n",
    "#company_list = ['SAMSUNG','HYNIX','TSMC','APPLE']\n",
    "company_list = ['TESLA', 'APPLE']\n",
    "\n",
    "for company in company_list:\n",
    "    profit, df_dpc_p_cp = get_cur_profit(company, df_dpc_dict, start_date, end_date)\n",
    "    df_dpc_p_cp_list.append((profit, df_dpc_p_cp))\n",
    "    \n",
    "    #print(f'company:{company}, profit:{profit:.2f}')\n",
    "    #print(f'start_date:{df_dpc_p_cp.index[0]}->Close:{df_dpc_p_cp.iloc[0,0]}')\n",
    "    #print(f'end_date:{df_dpc_p_cp.index[-1]}->Close:{df_dpc_p_cp.iloc[-1,0]}')\n",
    "    #print('\\n')\n",
    "\n",
    "fig = plt.figure(figsize=(12,8))    \n",
    "ax = fig.add_subplot()\n",
    "\n",
    "for company, (profit, df_dpc_p_cp) in zip(company_list, df_dpc_p_cp_list):\n",
    "    ax.plot(df_dpc_p_cp['dcp_cp'], label = f'{company}, {profit:.2f}')\n",
    "    \n",
    "ax.legend()"
   ]
  },
  {
   "cell_type": "code",
   "execution_count": null,
   "metadata": {},
   "outputs": [],
   "source": []
  }
 ],
 "metadata": {
  "kernelspec": {
   "display_name": "Python 3",
   "language": "python",
   "name": "python3"
  },
  "language_info": {
   "codemirror_mode": {
    "name": "ipython",
    "version": 3
   },
   "file_extension": ".py",
   "mimetype": "text/x-python",
   "name": "python",
   "nbconvert_exporter": "python",
   "pygments_lexer": "ipython3",
   "version": "3.8.5"
  }
 },
 "nbformat": 4,
 "nbformat_minor": 4
}
