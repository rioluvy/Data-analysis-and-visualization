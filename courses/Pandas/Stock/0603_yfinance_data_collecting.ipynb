{
 "cells": [
  {
   "cell_type": "markdown",
   "metadata": {},
   "source": [
    "삼성전자 Ticker Symbol : 005930.KS"
   ]
  },
  {
   "cell_type": "code",
   "execution_count": 1,
   "metadata": {},
   "outputs": [
    {
     "name": "stderr",
     "output_type": "stream",
     "text": [
      "C:\\Users\\actruce\\anaconda3\\lib\\site-packages\\pandas\\core\\computation\\expressions.py:20: UserWarning: Pandas requires version '2.7.3' or newer of 'numexpr' (version '2.7.1' currently installed).\n",
      "  from pandas.core.computation.check import NUMEXPR_INSTALLED\n"
     ]
    }
   ],
   "source": [
    "# 1. 라이브러리 불러오기\n",
    "import pandas as pd\n",
    "import yfinance as yf\n",
    "import matplotlib.pyplot as plt"
   ]
  },
  {
   "cell_type": "code",
   "execution_count": 2,
   "metadata": {},
   "outputs": [],
   "source": [
    "#티커심볼\n",
    "symbols_KS = {\"삼성전자\":\"005930.KS\",\n",
    "           \"Hynix\":\"000660.KS\",\n",
    "           \"NAVER\":\"035420.KS\",\n",
    "           \"KAKAO\":\"035720.KS\"\n",
    "          }\n",
    "\n",
    "symbols2 = {\n",
    "           \"Apple\":\"AAPL\",\n",
    "           \"NVIDIA\":\"NVDA\",\n",
    "           \"TESLA\":\"TSLA\",\n",
    "           \"TSMC\":\"2330.TW\",\n",
    "           \"ASML\":\"ASML\",\n",
    "           \"AMAT\":\"AMAT\", #Applied Materials\n",
    "           \"LAM\":\"LRCX\", #Lam Research Corporation\n",
    "          }"
   ]
  },
  {
   "cell_type": "code",
   "execution_count": 3,
   "metadata": {},
   "outputs": [
    {
     "name": "stdout",
     "output_type": "stream",
     "text": [
      "Apple Stock Price Download:\n",
      "\n"
     ]
    },
    {
     "name": "stderr",
     "output_type": "stream",
     "text": [
      "[*********************100%%**********************]  1 of 1 completed\n"
     ]
    },
    {
     "name": "stdout",
     "output_type": "stream",
     "text": [
      "df.shape:(6183, 6)\n",
      "NVIDIA Stock Price Download:\n",
      "\n"
     ]
    },
    {
     "name": "stderr",
     "output_type": "stream",
     "text": [
      "[*********************100%%**********************]  1 of 1 completed\n"
     ]
    },
    {
     "name": "stdout",
     "output_type": "stream",
     "text": [
      "df.shape:(6183, 6)\n",
      "TESLA Stock Price Download:\n",
      "\n"
     ]
    },
    {
     "name": "stderr",
     "output_type": "stream",
     "text": [
      "[*********************100%%**********************]  1 of 1 completed\n"
     ]
    },
    {
     "name": "stdout",
     "output_type": "stream",
     "text": [
      "df.shape:(3546, 6)\n",
      "TSMC Stock Price Download:\n",
      "\n"
     ]
    },
    {
     "name": "stderr",
     "output_type": "stream",
     "text": [
      "[*********************100%%**********************]  1 of 1 completed\n"
     ]
    },
    {
     "name": "stdout",
     "output_type": "stream",
     "text": [
      "df.shape:(6125, 6)\n",
      "ASML Stock Price Download:\n",
      "\n"
     ]
    },
    {
     "name": "stderr",
     "output_type": "stream",
     "text": [
      "[*********************100%%**********************]  1 of 1 completed\n"
     ]
    },
    {
     "name": "stdout",
     "output_type": "stream",
     "text": [
      "df.shape:(6183, 6)\n",
      "AMAT Stock Price Download:\n",
      "\n"
     ]
    },
    {
     "name": "stderr",
     "output_type": "stream",
     "text": [
      "[*********************100%%**********************]  1 of 1 completed\n"
     ]
    },
    {
     "name": "stdout",
     "output_type": "stream",
     "text": [
      "df.shape:(6183, 6)\n",
      "LAM Stock Price Download:\n",
      "\n"
     ]
    },
    {
     "name": "stderr",
     "output_type": "stream",
     "text": [
      "[*********************100%%**********************]  1 of 1 completed\n"
     ]
    },
    {
     "name": "stdout",
     "output_type": "stream",
     "text": [
      "df.shape:(6183, 6)\n"
     ]
    }
   ],
   "source": [
    "# 2. 가져올 데이터 기간 지정\n",
    "start = \"2000-01-01\"\n",
    "end = \"2024-08-01\"\n",
    "\n",
    "import time\n",
    "\n",
    "# 3. 가져올 티커(심볼) 지정 - 삼성전자 심볼 예시\n",
    "for company, symbol in symbols2.items():\n",
    "\n",
    "    print(f'{company} Stock Price Download:\\n')\n",
    "        \n",
    "    # 4. 데이터 불러오기\n",
    "    df = yf.download(symbol, start, end)\n",
    "    \n",
    "    print(f'df.shape:{df.shape}')\n",
    "    \n",
    "    df.to_csv(f'{company}.csv')\n",
    "    \n",
    "    time.sleep(5)"
   ]
  },
  {
   "cell_type": "code",
   "execution_count": null,
   "metadata": {},
   "outputs": [],
   "source": []
  }
 ],
 "metadata": {
  "kernelspec": {
   "display_name": "Python 3",
   "language": "python",
   "name": "python3"
  },
  "language_info": {
   "codemirror_mode": {
    "name": "ipython",
    "version": 3
   },
   "file_extension": ".py",
   "mimetype": "text/x-python",
   "name": "python",
   "nbconvert_exporter": "python",
   "pygments_lexer": "ipython3",
   "version": "3.8.5"
  }
 },
 "nbformat": 4,
 "nbformat_minor": 4
}
