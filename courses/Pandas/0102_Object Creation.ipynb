{
 "cells": [
  {
   "cell_type": "code",
   "execution_count": null,
   "metadata": {},
   "outputs": [],
   "source": [
    "import pandas as pd\n",
    "import numpy as np"
   ]
  },
  {
   "cell_type": "markdown",
   "metadata": {},
   "source": [
    "## Series 객체 생성\n",
    "- data 와 index 를 인자로 구분해서 생성\n",
    "- dictionary 로 부터 (key=index, value=data)"
   ]
  },
  {
   "cell_type": "markdown",
   "metadata": {},
   "source": [
    "#### data 와 index 를 인자로 구분해서 생성"
   ]
  },
  {
   "cell_type": "code",
   "execution_count": null,
   "metadata": {},
   "outputs": [],
   "source": [
    "se1 = pd.Series(np.random.randn(4)) # 인덱스 미지정\n",
    "se2 = pd.Series(data=np.random.randn(4), index=['a','b','c','d']) # 인덱스 지정\n",
    "se3 = pd.Series(data=[1,2,3,4], index=['a','b','c','d']) # 인덱스 지정"
   ]
  },
  {
   "cell_type": "code",
   "execution_count": null,
   "metadata": {
    "scrolled": true
   },
   "outputs": [],
   "source": [
    "print(f'se1:\\n{se1}\\n')\n",
    "print(f'se2:\\n{se2}')\n",
    "print(f'se3:\\n{se3}')"
   ]
  },
  {
   "cell_type": "code",
   "execution_count": null,
   "metadata": {
    "scrolled": true
   },
   "outputs": [],
   "source": [
    "# values, index 를 이용해 값과 인덱스를 구할 수 있다.\n",
    "print(f'se3.index:\\n{se3.index}\\n')\n",
    "print(f'se3.values:\\n{se3.values}\\n')"
   ]
  },
  {
   "cell_type": "markdown",
   "metadata": {},
   "source": [
    "#### 2. dictionary 로 부터 (key=index, value=data)"
   ]
  },
  {
   "cell_type": "code",
   "execution_count": null,
   "metadata": {},
   "outputs": [],
   "source": [
    "a_dict = {'a':1, 'b':2, 'c':3, 'd':4}\n",
    "se4 = pd.Series(a_dict)"
   ]
  },
  {
   "cell_type": "code",
   "execution_count": null,
   "metadata": {},
   "outputs": [],
   "source": [
    "print(f'se3:\\n{se4}')"
   ]
  },
  {
   "cell_type": "markdown",
   "metadata": {},
   "source": [
    "## DataFrame 객체 생성\n",
    "- 여러 Series 객체를 조합해서\n",
    "- dictionary 로 부터"
   ]
  },
  {
   "cell_type": "markdown",
   "metadata": {},
   "source": [
    "#### 1. 여러 Series 객체를 조합해서\n",
    "- index 지정하는 경우 각 Series 들의 인덱스와 일치여부가 중요!"
   ]
  },
  {
   "cell_type": "code",
   "execution_count": null,
   "metadata": {},
   "outputs": [],
   "source": [
    "se1 = pd.Series([1,2,3,4])\n",
    "se2 = pd.Series([10,20,30,40])\n",
    "df1 = pd.DataFrame({'col1':se1, 'col2':se2}) #index 지정하는 경우 각 Series 들의 인덱스와 일치여부가 중요"
   ]
  },
  {
   "cell_type": "code",
   "execution_count": null,
   "metadata": {
    "scrolled": true
   },
   "outputs": [],
   "source": [
    "print(f'df1:\\n{df1}\\n')"
   ]
  },
  {
   "cell_type": "markdown",
   "metadata": {},
   "source": [
    "#### 2. dictionary 로 부터"
   ]
  },
  {
   "cell_type": "code",
   "execution_count": null,
   "metadata": {},
   "outputs": [],
   "source": [
    "df2 = pd.DataFrame(data=\n",
    "                  {'col1':[1,2,3,4],\\\n",
    "                   'col2':[10,20,30,40],\n",
    "                  'col3':[100,200,300,400]},\n",
    "                  index = range(1,5))"
   ]
  },
  {
   "cell_type": "code",
   "execution_count": null,
   "metadata": {},
   "outputs": [],
   "source": [
    "print(f'df2:\\n{df2}\\n')"
   ]
  },
  {
   "cell_type": "code",
   "execution_count": null,
   "metadata": {},
   "outputs": [],
   "source": [
    "df3 = pd.DataFrame(data=\n",
    "                  {'Name':['James John', 'Avery Bradley', \n",
    "                           'Jonas jerebko', 'Jared Sullinger', \n",
    "                           'Evan Tucker', 'Jim Morris'],\\\n",
    "                   'Korean':[80,85,40,70,100,95],\n",
    "                  'English':[98,98,94,90,80,85],\n",
    "                  'Math.':[85,70,54,68,85,92],\n",
    "                  'Avg.':[87.7,84.3,62.7,76.0,88.3,90.7]}, \n",
    "                 index = range(1,7))"
   ]
  },
  {
   "cell_type": "code",
   "execution_count": null,
   "metadata": {
    "scrolled": true
   },
   "outputs": [],
   "source": [
    "print(f'df3:\\n{df3}\\n')"
   ]
  },
  {
   "cell_type": "markdown",
   "metadata": {},
   "source": [
    "#### index, columns 로 row 라벨, column 라벨을 확인 할 수 있다."
   ]
  },
  {
   "cell_type": "code",
   "execution_count": null,
   "metadata": {},
   "outputs": [],
   "source": [
    "df3.index"
   ]
  },
  {
   "cell_type": "code",
   "execution_count": null,
   "metadata": {
    "scrolled": true
   },
   "outputs": [],
   "source": [
    "df3.columns"
   ]
  },
  {
   "cell_type": "markdown",
   "metadata": {},
   "source": [
    "#### DataFrame 의 한개 컬럼을 선택하면 Series 객체가 된다."
   ]
  },
  {
   "cell_type": "code",
   "execution_count": null,
   "metadata": {},
   "outputs": [],
   "source": [
    "a = df3[\"Name\"]\n",
    "type(a)"
   ]
  },
  {
   "cell_type": "code",
   "execution_count": null,
   "metadata": {},
   "outputs": [],
   "source": [
    "a"
   ]
  },
  {
   "cell_type": "code",
   "execution_count": null,
   "metadata": {},
   "outputs": [],
   "source": []
  }
 ],
 "metadata": {
  "kernelspec": {
   "display_name": "Python 3",
   "language": "python",
   "name": "python3"
  },
  "language_info": {
   "codemirror_mode": {
    "name": "ipython",
    "version": 3
   },
   "file_extension": ".py",
   "mimetype": "text/x-python",
   "name": "python",
   "nbconvert_exporter": "python",
   "pygments_lexer": "ipython3",
   "version": "3.8.5"
  }
 },
 "nbformat": 4,
 "nbformat_minor": 4
}
